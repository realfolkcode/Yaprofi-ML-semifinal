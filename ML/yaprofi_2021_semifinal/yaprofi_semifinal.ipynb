{
  "nbformat": 4,
  "nbformat_minor": 0,
  "metadata": {
    "colab": {
      "name": "yaprofi_semifinal.ipynb",
      "provenance": [],
      "toc_visible": true
    },
    "kernelspec": {
      "name": "python3",
      "display_name": "Python 3"
    }
  },
  "cells": [
    {
      "cell_type": "code",
      "metadata": {
        "id": "UdBNOIaOheee"
      },
      "source": [
        "import pandas as pd\r\n",
        "import numpy as np\r\n",
        "import seaborn as sns\r\n",
        "import matplotlib.pyplot as plt\r\n",
        "%matplotlib inline"
      ],
      "execution_count": null,
      "outputs": []
    },
    {
      "cell_type": "code",
      "metadata": {
        "colab": {
          "resources": {
            "http://localhost:8080/nbextensions/google.colab/files.js": {
              "data": "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",
              "ok": true,
              "headers": [
                [
                  "content-type",
                  "application/javascript"
                ]
              ],
              "status": 200,
              "status_text": ""
            }
          },
          "base_uri": "https://localhost:8080/",
          "height": 140
        },
        "id": "y5Jro_wHhinj",
        "outputId": "18ad5a96-c68a-4b43-d33a-bd9383e587b2"
      },
      "source": [
        "from google.colab import files\r\n",
        "\r\n",
        "uploaded = files.upload()\r\n",
        "\r\n",
        "for fn in uploaded.keys():\r\n",
        "  print('User uploaded file \"{name}\" with length {length} bytes'.format(\r\n",
        "      name=fn, length=len(uploaded[fn])))"
      ],
      "execution_count": null,
      "outputs": [
        {
          "output_type": "display_data",
          "data": {
            "text/html": [
              "\n",
              "     <input type=\"file\" id=\"files-854eb517-44f6-4ed4-83d5-486af0775059\" name=\"files[]\" multiple disabled\n",
              "        style=\"border:none\" />\n",
              "     <output id=\"result-854eb517-44f6-4ed4-83d5-486af0775059\">\n",
              "      Upload widget is only available when the cell has been executed in the\n",
              "      current browser session. Please rerun this cell to enable.\n",
              "      </output>\n",
              "      <script src=\"/nbextensions/google.colab/files.js\"></script> "
            ],
            "text/plain": [
              "<IPython.core.display.HTML object>"
            ]
          },
          "metadata": {
            "tags": []
          }
        },
        {
          "output_type": "stream",
          "text": [
            "Saving Empty_part.csv to Empty_part.csv\n",
            "Saving Training_wells.csv to Training_wells.csv\n",
            "User uploaded file \"Empty_part.csv\" with length 21124 bytes\n",
            "User uploaded file \"Training_wells.csv\" with length 3338 bytes\n"
          ],
          "name": "stdout"
        }
      ]
    },
    {
      "cell_type": "markdown",
      "metadata": {
        "id": "2CDaLHvTOJK0"
      },
      "source": [
        "# Препроцессинг"
      ]
    },
    {
      "cell_type": "code",
      "metadata": {
        "colab": {
          "base_uri": "https://localhost:8080/",
          "height": 402
        },
        "id": "Bjfy-pMwhlj8",
        "outputId": "29341673-b28a-47b5-ecf4-6f5ce38ba4d7"
      },
      "source": [
        "train = pd.read_csv('Training_wells.csv')\r\n",
        "train"
      ],
      "execution_count": null,
      "outputs": [
        {
          "output_type": "execute_result",
          "data": {
            "text/html": [
              "<div>\n",
              "<style scoped>\n",
              "    .dataframe tbody tr th:only-of-type {\n",
              "        vertical-align: middle;\n",
              "    }\n",
              "\n",
              "    .dataframe tbody tr th {\n",
              "        vertical-align: top;\n",
              "    }\n",
              "\n",
              "    .dataframe thead th {\n",
              "        text-align: right;\n",
              "    }\n",
              "</style>\n",
              "<table border=\"1\" class=\"dataframe\">\n",
              "  <thead>\n",
              "    <tr style=\"text-align: right;\">\n",
              "      <th></th>\n",
              "      <th>Well</th>\n",
              "      <th>X</th>\n",
              "      <th>Y</th>\n",
              "      <th>NTG</th>\n",
              "    </tr>\n",
              "  </thead>\n",
              "  <tbody>\n",
              "    <tr>\n",
              "      <th>0</th>\n",
              "      <td>201-907</td>\n",
              "      <td>201</td>\n",
              "      <td>907</td>\n",
              "      <td>0.2006</td>\n",
              "    </tr>\n",
              "    <tr>\n",
              "      <th>1</th>\n",
              "      <td>201-914</td>\n",
              "      <td>201</td>\n",
              "      <td>914</td>\n",
              "      <td>0.3624</td>\n",
              "    </tr>\n",
              "    <tr>\n",
              "      <th>2</th>\n",
              "      <td>201-924</td>\n",
              "      <td>201</td>\n",
              "      <td>924</td>\n",
              "      <td>0.4381</td>\n",
              "    </tr>\n",
              "    <tr>\n",
              "      <th>3</th>\n",
              "      <td>202-922</td>\n",
              "      <td>202</td>\n",
              "      <td>922</td>\n",
              "      <td>0.4289</td>\n",
              "    </tr>\n",
              "    <tr>\n",
              "      <th>4</th>\n",
              "      <td>202-925</td>\n",
              "      <td>202</td>\n",
              "      <td>925</td>\n",
              "      <td>0.4021</td>\n",
              "    </tr>\n",
              "    <tr>\n",
              "      <th>...</th>\n",
              "      <td>...</td>\n",
              "      <td>...</td>\n",
              "      <td>...</td>\n",
              "      <td>...</td>\n",
              "    </tr>\n",
              "    <tr>\n",
              "      <th>133</th>\n",
              "      <td>245-908</td>\n",
              "      <td>245</td>\n",
              "      <td>908</td>\n",
              "      <td>0.2719</td>\n",
              "    </tr>\n",
              "    <tr>\n",
              "      <th>134</th>\n",
              "      <td>245-911</td>\n",
              "      <td>245</td>\n",
              "      <td>911</td>\n",
              "      <td>0.3780</td>\n",
              "    </tr>\n",
              "    <tr>\n",
              "      <th>135</th>\n",
              "      <td>245-923</td>\n",
              "      <td>245</td>\n",
              "      <td>923</td>\n",
              "      <td>0.4239</td>\n",
              "    </tr>\n",
              "    <tr>\n",
              "      <th>136</th>\n",
              "      <td>246-905</td>\n",
              "      <td>246</td>\n",
              "      <td>905</td>\n",
              "      <td>0.4900</td>\n",
              "    </tr>\n",
              "    <tr>\n",
              "      <th>137</th>\n",
              "      <td>246-923</td>\n",
              "      <td>246</td>\n",
              "      <td>923</td>\n",
              "      <td>0.3667</td>\n",
              "    </tr>\n",
              "  </tbody>\n",
              "</table>\n",
              "<p>138 rows × 4 columns</p>\n",
              "</div>"
            ],
            "text/plain": [
              "        Well    X    Y     NTG\n",
              "0    201-907  201  907  0.2006\n",
              "1    201-914  201  914  0.3624\n",
              "2    201-924  201  924  0.4381\n",
              "3    202-922  202  922  0.4289\n",
              "4    202-925  202  925  0.4021\n",
              "..       ...  ...  ...     ...\n",
              "133  245-908  245  908  0.2719\n",
              "134  245-911  245  911  0.3780\n",
              "135  245-923  245  923  0.4239\n",
              "136  246-905  246  905  0.4900\n",
              "137  246-923  246  923  0.3667\n",
              "\n",
              "[138 rows x 4 columns]"
            ]
          },
          "metadata": {
            "tags": []
          },
          "execution_count": 3
        }
      ]
    },
    {
      "cell_type": "code",
      "metadata": {
        "colab": {
          "base_uri": "https://localhost:8080/",
          "height": 402
        },
        "id": "OAaA0JQmiom2",
        "outputId": "08a8e347-d5b1-4c82-9e16-b9ef5d689256"
      },
      "source": [
        "test = pd.read_csv('Empty_part.csv')\r\n",
        "test"
      ],
      "execution_count": null,
      "outputs": [
        {
          "output_type": "execute_result",
          "data": {
            "text/html": [
              "<div>\n",
              "<style scoped>\n",
              "    .dataframe tbody tr th:only-of-type {\n",
              "        vertical-align: middle;\n",
              "    }\n",
              "\n",
              "    .dataframe tbody tr th {\n",
              "        vertical-align: top;\n",
              "    }\n",
              "\n",
              "    .dataframe thead th {\n",
              "        text-align: right;\n",
              "    }\n",
              "</style>\n",
              "<table border=\"1\" class=\"dataframe\">\n",
              "  <thead>\n",
              "    <tr style=\"text-align: right;\">\n",
              "      <th></th>\n",
              "      <th>Well</th>\n",
              "      <th>X</th>\n",
              "      <th>Y</th>\n",
              "    </tr>\n",
              "  </thead>\n",
              "  <tbody>\n",
              "    <tr>\n",
              "      <th>0</th>\n",
              "      <td>201-901</td>\n",
              "      <td>201</td>\n",
              "      <td>901</td>\n",
              "    </tr>\n",
              "    <tr>\n",
              "      <th>1</th>\n",
              "      <td>201-902</td>\n",
              "      <td>201</td>\n",
              "      <td>902</td>\n",
              "    </tr>\n",
              "    <tr>\n",
              "      <th>2</th>\n",
              "      <td>201-903</td>\n",
              "      <td>201</td>\n",
              "      <td>903</td>\n",
              "    </tr>\n",
              "    <tr>\n",
              "      <th>3</th>\n",
              "      <td>201-904</td>\n",
              "      <td>201</td>\n",
              "      <td>904</td>\n",
              "    </tr>\n",
              "    <tr>\n",
              "      <th>4</th>\n",
              "      <td>201-905</td>\n",
              "      <td>201</td>\n",
              "      <td>905</td>\n",
              "    </tr>\n",
              "    <tr>\n",
              "      <th>...</th>\n",
              "      <td>...</td>\n",
              "      <td>...</td>\n",
              "      <td>...</td>\n",
              "    </tr>\n",
              "    <tr>\n",
              "      <th>1237</th>\n",
              "      <td>246-926</td>\n",
              "      <td>246</td>\n",
              "      <td>926</td>\n",
              "    </tr>\n",
              "    <tr>\n",
              "      <th>1238</th>\n",
              "      <td>246-927</td>\n",
              "      <td>246</td>\n",
              "      <td>927</td>\n",
              "    </tr>\n",
              "    <tr>\n",
              "      <th>1239</th>\n",
              "      <td>246-928</td>\n",
              "      <td>246</td>\n",
              "      <td>928</td>\n",
              "    </tr>\n",
              "    <tr>\n",
              "      <th>1240</th>\n",
              "      <td>246-929</td>\n",
              "      <td>246</td>\n",
              "      <td>929</td>\n",
              "    </tr>\n",
              "    <tr>\n",
              "      <th>1241</th>\n",
              "      <td>246-930</td>\n",
              "      <td>246</td>\n",
              "      <td>930</td>\n",
              "    </tr>\n",
              "  </tbody>\n",
              "</table>\n",
              "<p>1242 rows × 3 columns</p>\n",
              "</div>"
            ],
            "text/plain": [
              "         Well    X    Y\n",
              "0     201-901  201  901\n",
              "1     201-902  201  902\n",
              "2     201-903  201  903\n",
              "3     201-904  201  904\n",
              "4     201-905  201  905\n",
              "...       ...  ...  ...\n",
              "1237  246-926  246  926\n",
              "1238  246-927  246  927\n",
              "1239  246-928  246  928\n",
              "1240  246-929  246  929\n",
              "1241  246-930  246  930\n",
              "\n",
              "[1242 rows x 3 columns]"
            ]
          },
          "metadata": {
            "tags": []
          },
          "execution_count": 4
        }
      ]
    },
    {
      "cell_type": "code",
      "metadata": {
        "id": "6ASAMqv-i8Iu"
      },
      "source": [
        "train = train.drop(columns=['Well'])\r\n",
        "test = test.drop(columns=['Well'])"
      ],
      "execution_count": null,
      "outputs": []
    },
    {
      "cell_type": "code",
      "metadata": {
        "id": "2N4EtBX6t68O"
      },
      "source": [
        "train['X'] -= 201\r\n",
        "train['Y'] -= 901\r\n",
        "test['X'] -= 201\r\n",
        "test['Y'] -= 901"
      ],
      "execution_count": null,
      "outputs": []
    },
    {
      "cell_type": "code",
      "metadata": {
        "colab": {
          "base_uri": "https://localhost:8080/",
          "height": 402
        },
        "id": "NC5L8w7YLvuX",
        "outputId": "c12eca75-76e2-40dd-d90c-011f1a530778"
      },
      "source": [
        "train"
      ],
      "execution_count": null,
      "outputs": [
        {
          "output_type": "execute_result",
          "data": {
            "text/html": [
              "<div>\n",
              "<style scoped>\n",
              "    .dataframe tbody tr th:only-of-type {\n",
              "        vertical-align: middle;\n",
              "    }\n",
              "\n",
              "    .dataframe tbody tr th {\n",
              "        vertical-align: top;\n",
              "    }\n",
              "\n",
              "    .dataframe thead th {\n",
              "        text-align: right;\n",
              "    }\n",
              "</style>\n",
              "<table border=\"1\" class=\"dataframe\">\n",
              "  <thead>\n",
              "    <tr style=\"text-align: right;\">\n",
              "      <th></th>\n",
              "      <th>X</th>\n",
              "      <th>Y</th>\n",
              "      <th>NTG</th>\n",
              "    </tr>\n",
              "  </thead>\n",
              "  <tbody>\n",
              "    <tr>\n",
              "      <th>0</th>\n",
              "      <td>0</td>\n",
              "      <td>6</td>\n",
              "      <td>0.2006</td>\n",
              "    </tr>\n",
              "    <tr>\n",
              "      <th>1</th>\n",
              "      <td>0</td>\n",
              "      <td>13</td>\n",
              "      <td>0.3624</td>\n",
              "    </tr>\n",
              "    <tr>\n",
              "      <th>2</th>\n",
              "      <td>0</td>\n",
              "      <td>23</td>\n",
              "      <td>0.4381</td>\n",
              "    </tr>\n",
              "    <tr>\n",
              "      <th>3</th>\n",
              "      <td>1</td>\n",
              "      <td>21</td>\n",
              "      <td>0.4289</td>\n",
              "    </tr>\n",
              "    <tr>\n",
              "      <th>4</th>\n",
              "      <td>1</td>\n",
              "      <td>24</td>\n",
              "      <td>0.4021</td>\n",
              "    </tr>\n",
              "    <tr>\n",
              "      <th>...</th>\n",
              "      <td>...</td>\n",
              "      <td>...</td>\n",
              "      <td>...</td>\n",
              "    </tr>\n",
              "    <tr>\n",
              "      <th>133</th>\n",
              "      <td>44</td>\n",
              "      <td>7</td>\n",
              "      <td>0.2719</td>\n",
              "    </tr>\n",
              "    <tr>\n",
              "      <th>134</th>\n",
              "      <td>44</td>\n",
              "      <td>10</td>\n",
              "      <td>0.3780</td>\n",
              "    </tr>\n",
              "    <tr>\n",
              "      <th>135</th>\n",
              "      <td>44</td>\n",
              "      <td>22</td>\n",
              "      <td>0.4239</td>\n",
              "    </tr>\n",
              "    <tr>\n",
              "      <th>136</th>\n",
              "      <td>45</td>\n",
              "      <td>4</td>\n",
              "      <td>0.4900</td>\n",
              "    </tr>\n",
              "    <tr>\n",
              "      <th>137</th>\n",
              "      <td>45</td>\n",
              "      <td>22</td>\n",
              "      <td>0.3667</td>\n",
              "    </tr>\n",
              "  </tbody>\n",
              "</table>\n",
              "<p>138 rows × 3 columns</p>\n",
              "</div>"
            ],
            "text/plain": [
              "      X   Y     NTG\n",
              "0     0   6  0.2006\n",
              "1     0  13  0.3624\n",
              "2     0  23  0.4381\n",
              "3     1  21  0.4289\n",
              "4     1  24  0.4021\n",
              "..   ..  ..     ...\n",
              "133  44   7  0.2719\n",
              "134  44  10  0.3780\n",
              "135  44  22  0.4239\n",
              "136  45   4  0.4900\n",
              "137  45  22  0.3667\n",
              "\n",
              "[138 rows x 3 columns]"
            ]
          },
          "metadata": {
            "tags": []
          },
          "execution_count": 7
        }
      ]
    },
    {
      "cell_type": "code",
      "metadata": {
        "colab": {
          "base_uri": "https://localhost:8080/",
          "height": 402
        },
        "id": "8ZNk--YRLxO8",
        "outputId": "248bcbeb-569f-4048-855d-a1a01249e745"
      },
      "source": [
        "test"
      ],
      "execution_count": null,
      "outputs": [
        {
          "output_type": "execute_result",
          "data": {
            "text/html": [
              "<div>\n",
              "<style scoped>\n",
              "    .dataframe tbody tr th:only-of-type {\n",
              "        vertical-align: middle;\n",
              "    }\n",
              "\n",
              "    .dataframe tbody tr th {\n",
              "        vertical-align: top;\n",
              "    }\n",
              "\n",
              "    .dataframe thead th {\n",
              "        text-align: right;\n",
              "    }\n",
              "</style>\n",
              "<table border=\"1\" class=\"dataframe\">\n",
              "  <thead>\n",
              "    <tr style=\"text-align: right;\">\n",
              "      <th></th>\n",
              "      <th>X</th>\n",
              "      <th>Y</th>\n",
              "    </tr>\n",
              "  </thead>\n",
              "  <tbody>\n",
              "    <tr>\n",
              "      <th>0</th>\n",
              "      <td>0</td>\n",
              "      <td>0</td>\n",
              "    </tr>\n",
              "    <tr>\n",
              "      <th>1</th>\n",
              "      <td>0</td>\n",
              "      <td>1</td>\n",
              "    </tr>\n",
              "    <tr>\n",
              "      <th>2</th>\n",
              "      <td>0</td>\n",
              "      <td>2</td>\n",
              "    </tr>\n",
              "    <tr>\n",
              "      <th>3</th>\n",
              "      <td>0</td>\n",
              "      <td>3</td>\n",
              "    </tr>\n",
              "    <tr>\n",
              "      <th>4</th>\n",
              "      <td>0</td>\n",
              "      <td>4</td>\n",
              "    </tr>\n",
              "    <tr>\n",
              "      <th>...</th>\n",
              "      <td>...</td>\n",
              "      <td>...</td>\n",
              "    </tr>\n",
              "    <tr>\n",
              "      <th>1237</th>\n",
              "      <td>45</td>\n",
              "      <td>25</td>\n",
              "    </tr>\n",
              "    <tr>\n",
              "      <th>1238</th>\n",
              "      <td>45</td>\n",
              "      <td>26</td>\n",
              "    </tr>\n",
              "    <tr>\n",
              "      <th>1239</th>\n",
              "      <td>45</td>\n",
              "      <td>27</td>\n",
              "    </tr>\n",
              "    <tr>\n",
              "      <th>1240</th>\n",
              "      <td>45</td>\n",
              "      <td>28</td>\n",
              "    </tr>\n",
              "    <tr>\n",
              "      <th>1241</th>\n",
              "      <td>45</td>\n",
              "      <td>29</td>\n",
              "    </tr>\n",
              "  </tbody>\n",
              "</table>\n",
              "<p>1242 rows × 2 columns</p>\n",
              "</div>"
            ],
            "text/plain": [
              "       X   Y\n",
              "0      0   0\n",
              "1      0   1\n",
              "2      0   2\n",
              "3      0   3\n",
              "4      0   4\n",
              "...   ..  ..\n",
              "1237  45  25\n",
              "1238  45  26\n",
              "1239  45  27\n",
              "1240  45  28\n",
              "1241  45  29\n",
              "\n",
              "[1242 rows x 2 columns]"
            ]
          },
          "metadata": {
            "tags": []
          },
          "execution_count": 8
        }
      ]
    },
    {
      "cell_type": "code",
      "metadata": {
        "id": "P4ihFcDQu9-3"
      },
      "source": [
        "data = train.merge(test, how='outer')"
      ],
      "execution_count": null,
      "outputs": []
    },
    {
      "cell_type": "code",
      "metadata": {
        "colab": {
          "base_uri": "https://localhost:8080/",
          "height": 402
        },
        "id": "zyLp5xJOwzXR",
        "outputId": "3915aa57-518e-485f-8517-c1d0eca46d77"
      },
      "source": [
        "data"
      ],
      "execution_count": null,
      "outputs": [
        {
          "output_type": "execute_result",
          "data": {
            "text/html": [
              "<div>\n",
              "<style scoped>\n",
              "    .dataframe tbody tr th:only-of-type {\n",
              "        vertical-align: middle;\n",
              "    }\n",
              "\n",
              "    .dataframe tbody tr th {\n",
              "        vertical-align: top;\n",
              "    }\n",
              "\n",
              "    .dataframe thead th {\n",
              "        text-align: right;\n",
              "    }\n",
              "</style>\n",
              "<table border=\"1\" class=\"dataframe\">\n",
              "  <thead>\n",
              "    <tr style=\"text-align: right;\">\n",
              "      <th></th>\n",
              "      <th>X</th>\n",
              "      <th>Y</th>\n",
              "      <th>NTG</th>\n",
              "    </tr>\n",
              "  </thead>\n",
              "  <tbody>\n",
              "    <tr>\n",
              "      <th>0</th>\n",
              "      <td>0</td>\n",
              "      <td>6</td>\n",
              "      <td>0.2006</td>\n",
              "    </tr>\n",
              "    <tr>\n",
              "      <th>1</th>\n",
              "      <td>0</td>\n",
              "      <td>13</td>\n",
              "      <td>0.3624</td>\n",
              "    </tr>\n",
              "    <tr>\n",
              "      <th>2</th>\n",
              "      <td>0</td>\n",
              "      <td>23</td>\n",
              "      <td>0.4381</td>\n",
              "    </tr>\n",
              "    <tr>\n",
              "      <th>3</th>\n",
              "      <td>1</td>\n",
              "      <td>21</td>\n",
              "      <td>0.4289</td>\n",
              "    </tr>\n",
              "    <tr>\n",
              "      <th>4</th>\n",
              "      <td>1</td>\n",
              "      <td>24</td>\n",
              "      <td>0.4021</td>\n",
              "    </tr>\n",
              "    <tr>\n",
              "      <th>...</th>\n",
              "      <td>...</td>\n",
              "      <td>...</td>\n",
              "      <td>...</td>\n",
              "    </tr>\n",
              "    <tr>\n",
              "      <th>1375</th>\n",
              "      <td>45</td>\n",
              "      <td>25</td>\n",
              "      <td>NaN</td>\n",
              "    </tr>\n",
              "    <tr>\n",
              "      <th>1376</th>\n",
              "      <td>45</td>\n",
              "      <td>26</td>\n",
              "      <td>NaN</td>\n",
              "    </tr>\n",
              "    <tr>\n",
              "      <th>1377</th>\n",
              "      <td>45</td>\n",
              "      <td>27</td>\n",
              "      <td>NaN</td>\n",
              "    </tr>\n",
              "    <tr>\n",
              "      <th>1378</th>\n",
              "      <td>45</td>\n",
              "      <td>28</td>\n",
              "      <td>NaN</td>\n",
              "    </tr>\n",
              "    <tr>\n",
              "      <th>1379</th>\n",
              "      <td>45</td>\n",
              "      <td>29</td>\n",
              "      <td>NaN</td>\n",
              "    </tr>\n",
              "  </tbody>\n",
              "</table>\n",
              "<p>1380 rows × 3 columns</p>\n",
              "</div>"
            ],
            "text/plain": [
              "       X   Y     NTG\n",
              "0      0   6  0.2006\n",
              "1      0  13  0.3624\n",
              "2      0  23  0.4381\n",
              "3      1  21  0.4289\n",
              "4      1  24  0.4021\n",
              "...   ..  ..     ...\n",
              "1375  45  25     NaN\n",
              "1376  45  26     NaN\n",
              "1377  45  27     NaN\n",
              "1378  45  28     NaN\n",
              "1379  45  29     NaN\n",
              "\n",
              "[1380 rows x 3 columns]"
            ]
          },
          "metadata": {
            "tags": []
          },
          "execution_count": 10
        }
      ]
    },
    {
      "cell_type": "code",
      "metadata": {
        "colab": {
          "base_uri": "https://localhost:8080/",
          "height": 284
        },
        "id": "U98MaJVeysaX",
        "outputId": "e73342a4-6ea6-4d10-b8ee-4cebfac838e4"
      },
      "source": [
        "data.describe()"
      ],
      "execution_count": null,
      "outputs": [
        {
          "output_type": "execute_result",
          "data": {
            "text/html": [
              "<div>\n",
              "<style scoped>\n",
              "    .dataframe tbody tr th:only-of-type {\n",
              "        vertical-align: middle;\n",
              "    }\n",
              "\n",
              "    .dataframe tbody tr th {\n",
              "        vertical-align: top;\n",
              "    }\n",
              "\n",
              "    .dataframe thead th {\n",
              "        text-align: right;\n",
              "    }\n",
              "</style>\n",
              "<table border=\"1\" class=\"dataframe\">\n",
              "  <thead>\n",
              "    <tr style=\"text-align: right;\">\n",
              "      <th></th>\n",
              "      <th>X</th>\n",
              "      <th>Y</th>\n",
              "      <th>NTG</th>\n",
              "    </tr>\n",
              "  </thead>\n",
              "  <tbody>\n",
              "    <tr>\n",
              "      <th>count</th>\n",
              "      <td>1380.000000</td>\n",
              "      <td>1380.000000</td>\n",
              "      <td>138.000000</td>\n",
              "    </tr>\n",
              "    <tr>\n",
              "      <th>mean</th>\n",
              "      <td>22.500000</td>\n",
              "      <td>14.500000</td>\n",
              "      <td>0.325720</td>\n",
              "    </tr>\n",
              "    <tr>\n",
              "      <th>std</th>\n",
              "      <td>13.280731</td>\n",
              "      <td>8.658579</td>\n",
              "      <td>0.072432</td>\n",
              "    </tr>\n",
              "    <tr>\n",
              "      <th>min</th>\n",
              "      <td>0.000000</td>\n",
              "      <td>0.000000</td>\n",
              "      <td>0.177000</td>\n",
              "    </tr>\n",
              "    <tr>\n",
              "      <th>25%</th>\n",
              "      <td>11.000000</td>\n",
              "      <td>7.000000</td>\n",
              "      <td>0.270175</td>\n",
              "    </tr>\n",
              "    <tr>\n",
              "      <th>50%</th>\n",
              "      <td>22.500000</td>\n",
              "      <td>14.500000</td>\n",
              "      <td>0.325900</td>\n",
              "    </tr>\n",
              "    <tr>\n",
              "      <th>75%</th>\n",
              "      <td>34.000000</td>\n",
              "      <td>22.000000</td>\n",
              "      <td>0.377475</td>\n",
              "    </tr>\n",
              "    <tr>\n",
              "      <th>max</th>\n",
              "      <td>45.000000</td>\n",
              "      <td>29.000000</td>\n",
              "      <td>0.562500</td>\n",
              "    </tr>\n",
              "  </tbody>\n",
              "</table>\n",
              "</div>"
            ],
            "text/plain": [
              "                 X            Y         NTG\n",
              "count  1380.000000  1380.000000  138.000000\n",
              "mean     22.500000    14.500000    0.325720\n",
              "std      13.280731     8.658579    0.072432\n",
              "min       0.000000     0.000000    0.177000\n",
              "25%      11.000000     7.000000    0.270175\n",
              "50%      22.500000    14.500000    0.325900\n",
              "75%      34.000000    22.000000    0.377475\n",
              "max      45.000000    29.000000    0.562500"
            ]
          },
          "metadata": {
            "tags": []
          },
          "execution_count": 11
        }
      ]
    },
    {
      "cell_type": "code",
      "metadata": {
        "colab": {
          "base_uri": "https://localhost:8080/",
          "height": 402
        },
        "id": "NqACVscey8KR",
        "outputId": "ae7e489e-0db8-4565-f180-09b07b8b1f06"
      },
      "source": [
        "data = data.sort_values(by=['X', 'Y'])\r\n",
        "data"
      ],
      "execution_count": null,
      "outputs": [
        {
          "output_type": "execute_result",
          "data": {
            "text/html": [
              "<div>\n",
              "<style scoped>\n",
              "    .dataframe tbody tr th:only-of-type {\n",
              "        vertical-align: middle;\n",
              "    }\n",
              "\n",
              "    .dataframe tbody tr th {\n",
              "        vertical-align: top;\n",
              "    }\n",
              "\n",
              "    .dataframe thead th {\n",
              "        text-align: right;\n",
              "    }\n",
              "</style>\n",
              "<table border=\"1\" class=\"dataframe\">\n",
              "  <thead>\n",
              "    <tr style=\"text-align: right;\">\n",
              "      <th></th>\n",
              "      <th>X</th>\n",
              "      <th>Y</th>\n",
              "      <th>NTG</th>\n",
              "    </tr>\n",
              "  </thead>\n",
              "  <tbody>\n",
              "    <tr>\n",
              "      <th>138</th>\n",
              "      <td>0</td>\n",
              "      <td>0</td>\n",
              "      <td>NaN</td>\n",
              "    </tr>\n",
              "    <tr>\n",
              "      <th>139</th>\n",
              "      <td>0</td>\n",
              "      <td>1</td>\n",
              "      <td>NaN</td>\n",
              "    </tr>\n",
              "    <tr>\n",
              "      <th>140</th>\n",
              "      <td>0</td>\n",
              "      <td>2</td>\n",
              "      <td>NaN</td>\n",
              "    </tr>\n",
              "    <tr>\n",
              "      <th>141</th>\n",
              "      <td>0</td>\n",
              "      <td>3</td>\n",
              "      <td>NaN</td>\n",
              "    </tr>\n",
              "    <tr>\n",
              "      <th>142</th>\n",
              "      <td>0</td>\n",
              "      <td>4</td>\n",
              "      <td>NaN</td>\n",
              "    </tr>\n",
              "    <tr>\n",
              "      <th>...</th>\n",
              "      <td>...</td>\n",
              "      <td>...</td>\n",
              "      <td>...</td>\n",
              "    </tr>\n",
              "    <tr>\n",
              "      <th>1375</th>\n",
              "      <td>45</td>\n",
              "      <td>25</td>\n",
              "      <td>NaN</td>\n",
              "    </tr>\n",
              "    <tr>\n",
              "      <th>1376</th>\n",
              "      <td>45</td>\n",
              "      <td>26</td>\n",
              "      <td>NaN</td>\n",
              "    </tr>\n",
              "    <tr>\n",
              "      <th>1377</th>\n",
              "      <td>45</td>\n",
              "      <td>27</td>\n",
              "      <td>NaN</td>\n",
              "    </tr>\n",
              "    <tr>\n",
              "      <th>1378</th>\n",
              "      <td>45</td>\n",
              "      <td>28</td>\n",
              "      <td>NaN</td>\n",
              "    </tr>\n",
              "    <tr>\n",
              "      <th>1379</th>\n",
              "      <td>45</td>\n",
              "      <td>29</td>\n",
              "      <td>NaN</td>\n",
              "    </tr>\n",
              "  </tbody>\n",
              "</table>\n",
              "<p>1380 rows × 3 columns</p>\n",
              "</div>"
            ],
            "text/plain": [
              "       X   Y  NTG\n",
              "138    0   0  NaN\n",
              "139    0   1  NaN\n",
              "140    0   2  NaN\n",
              "141    0   3  NaN\n",
              "142    0   4  NaN\n",
              "...   ..  ..  ...\n",
              "1375  45  25  NaN\n",
              "1376  45  26  NaN\n",
              "1377  45  27  NaN\n",
              "1378  45  28  NaN\n",
              "1379  45  29  NaN\n",
              "\n",
              "[1380 rows x 3 columns]"
            ]
          },
          "metadata": {
            "tags": []
          },
          "execution_count": 12
        }
      ]
    },
    {
      "cell_type": "code",
      "metadata": {
        "colab": {
          "base_uri": "https://localhost:8080/",
          "height": 606
        },
        "id": "Y-r64eKEZQCp",
        "outputId": "e9d712a7-f29b-4705-b815-600bf418bbec"
      },
      "source": [
        "table = data.pivot('Y', 'X', 'NTG')\r\n",
        "plt.figure(figsize=(16,10))\r\n",
        "ax = sns.heatmap(table)\r\n",
        "ax.invert_yaxis()\r\n",
        "plt.show()"
      ],
      "execution_count": null,
      "outputs": [
        {
          "output_type": "display_data",
          "data": {
            "image/png": "[encoded data removed]",
            "text/plain": [
              "<Figure size 1152x720 with 2 Axes>"
            ]
          },
          "metadata": {
            "tags": [],
            "needs_background": "light"
          }
        }
      ]
    },
    {
      "cell_type": "code",
      "metadata": {
        "colab": {
          "base_uri": "https://localhost:8080/",
          "height": 282
        },
        "id": "xd-eSdmBFSlN",
        "outputId": "4902a35f-48bc-4073-ca9a-84c7f0998f79"
      },
      "source": [
        "train['NTG'].hist()"
      ],
      "execution_count": null,
      "outputs": [
        {
          "output_type": "execute_result",
          "data": {
            "text/plain": [
              "<matplotlib.axes._subplots.AxesSubplot at 0x7f5e384f5050>"
            ]
          },
          "metadata": {
            "tags": []
          },
          "execution_count": 15
        },
        {
          "output_type": "display_data",
          "data": {
            "image/png": "[encoded data removed]",
            "text/plain": [
              "<Figure size 432x288 with 1 Axes>"
            ]
          },
          "metadata": {
            "tags": [],
            "needs_background": "light"
          }
        }
      ]
    },
    {
      "cell_type": "code",
      "metadata": {
        "id": "6D-9nzIkbP_5"
      },
      "source": [
        "map_train = table.to_numpy()"
      ],
      "execution_count": null,
      "outputs": []
    },
    {
      "cell_type": "markdown",
      "metadata": {
        "id": "OaB5iKX6OVJM"
      },
      "source": [
        "# baseline"
      ]
    },
    {
      "cell_type": "code",
      "metadata": {
        "id": "fIN6SSC9naF7"
      },
      "source": [
        "def dist(a, b, i, j):\r\n",
        "    return ((a - i)**2 + (b - j)**2)"
      ],
      "execution_count": null,
      "outputs": []
    },
    {
      "cell_type": "code",
      "metadata": {
        "id": "5k4nyZNplP4f"
      },
      "source": [
        "def stat_sum(a, b, map_train):\r\n",
        "    s = 0\r\n",
        "    for i in range(map_train.shape[0]):\r\n",
        "        for j in range(map_train.shape[1]):\r\n",
        "            if not np.isnan(map_train[i,j]):\r\n",
        "                if dist(a, b, i, j) > 0:\r\n",
        "                    s += 1 / dist(a, b, i, j)\r\n",
        "    return s"
      ],
      "execution_count": null,
      "outputs": []
    },
    {
      "cell_type": "code",
      "metadata": {
        "id": "nfgK1CeRZNBm"
      },
      "source": [
        "def moving_average(a, b, map_train):\r\n",
        "    ntg = 0\r\n",
        "    s = stat_sum(a, b, map_train)\r\n",
        "    for i in range(map_train.shape[0]):\r\n",
        "        for j in range(map_train.shape[1]):\r\n",
        "            if not np.isnan(map_train[i,j]):\r\n",
        "                if dist(a, b, i, j) > 0:\r\n",
        "                    ntg += (map_train[i,j] / dist(a, b, i, j)) / s\r\n",
        "    return ntg"
      ],
      "execution_count": null,
      "outputs": []
    },
    {
      "cell_type": "code",
      "metadata": {
        "id": "9039nbZwbjMz"
      },
      "source": [
        "map_test = map_train.copy()\r\n",
        "for i in range(map_test.shape[0]):\r\n",
        "    for j in range(map_test.shape[1]):\r\n",
        "        if np.isnan(map_test[i,j]):\r\n",
        "            map_test[i,j] = moving_average(i, j, map_train)"
      ],
      "execution_count": null,
      "outputs": []
    },
    {
      "cell_type": "code",
      "metadata": {
        "colab": {
          "base_uri": "https://localhost:8080/"
        },
        "id": "HEUQO_7Kke3i",
        "outputId": "208271ba-e079-419b-d18c-23d82d667fe9"
      },
      "source": [
        "map_test"
      ],
      "execution_count": null,
      "outputs": [
        {
          "output_type": "execute_result",
          "data": {
            "text/plain": [
              "array([[0.27911216, 0.27269543, 0.26892308, ..., 0.37067341, 0.36209726,\n",
              "        0.35726335],\n",
              "       [0.27405203, 0.26678013, 0.2628    , ..., 0.3794241 , 0.36769474,\n",
              "        0.36446733],\n",
              "       [0.26998261, 0.26326733, 0.25575673, ..., 0.37965061, 0.37489297,\n",
              "        0.38091198],\n",
              "       ...,\n",
              "       [0.35326062, 0.34989048, 0.34603852, ..., 0.36666248, 0.35187656,\n",
              "        0.34060583],\n",
              "       [0.34654287, 0.34448951, 0.3452    , ..., 0.35505136, 0.34473188,\n",
              "        0.33750135],\n",
              "       [0.34236933, 0.34097055, 0.33924776, ..., 0.34135586, 0.33754631,\n",
              "        0.33359569]])"
            ]
          },
          "metadata": {
            "tags": []
          },
          "execution_count": 22
        }
      ]
    },
    {
      "cell_type": "code",
      "metadata": {
        "colab": {
          "base_uri": "https://localhost:8080/",
          "height": 592
        },
        "id": "nSTUkfT8kg_N",
        "outputId": "1084d928-4a58-45bd-f18a-b5efd973d299"
      },
      "source": [
        "plt.figure(figsize=(16,10))\r\n",
        "ax = sns.heatmap(map_test)\r\n",
        "ax.invert_yaxis()\r\n",
        "plt.show()"
      ],
      "execution_count": null,
      "outputs": [
        {
          "output_type": "display_data",
          "data": {
            "image/png": "[encoded data removed]",
            "text/plain": [
              "<Figure size 1152x720 with 2 Axes>"
            ]
          },
          "metadata": {
            "tags": [],
            "needs_background": "light"
          }
        }
      ]
    },
    {
      "cell_type": "code",
      "metadata": {
        "id": "zD2Act6mpMPe",
        "colab": {
          "base_uri": "https://localhost:8080/"
        },
        "outputId": "f521cf26-7872-46c0-b72d-976820565cc4"
      },
      "source": [
        "test_mask = pd.isnull(map_train)\r\n",
        "test_mask"
      ],
      "execution_count": null,
      "outputs": [
        {
          "output_type": "execute_result",
          "data": {
            "text/plain": [
              "array([[ True,  True,  True, ...,  True,  True,  True],\n",
              "       [ True,  True, False, ...,  True,  True,  True],\n",
              "       [ True,  True,  True, ...,  True,  True,  True],\n",
              "       ...,\n",
              "       [ True,  True,  True, ...,  True,  True,  True],\n",
              "       [ True,  True, False, ...,  True,  True,  True],\n",
              "       [ True,  True,  True, ...,  True,  True,  True]])"
            ]
          },
          "metadata": {
            "tags": []
          },
          "execution_count": 119
        }
      ]
    },
    {
      "cell_type": "code",
      "metadata": {
        "colab": {
          "base_uri": "https://localhost:8080/",
          "height": 592
        },
        "id": "gkBDlTtkgkVs",
        "outputId": "9f59ded6-22b7-4ea1-cefb-2bb66c6fc035"
      },
      "source": [
        "plt.figure(figsize=(16,10))\r\n",
        "ax = sns.heatmap(map_test * test_mask)\r\n",
        "ax.invert_yaxis()\r\n",
        "plt.show()"
      ],
      "execution_count": null,
      "outputs": [
        {
          "output_type": "display_data",
          "data": {
            "image/png": "[encoded data removed]",
            "text/plain": [
              "<Figure size 1152x720 with 2 Axes>"
            ]
          },
          "metadata": {
            "tags": [],
            "needs_background": "light"
          }
        }
      ]
    },
    {
      "cell_type": "code",
      "metadata": {
        "id": "M_8dG-eDgzZl"
      },
      "source": [
        "def get_pandas_out(map_test, test_mask):\r\n",
        "    out = pd.DataFrame(columns=[\"Well\", \"X\", \"Y\", \"NTG\"])\r\n",
        "    for j in range(map_test.shape[1]):\r\n",
        "        for i in range(map_test.shape[0]):\r\n",
        "            if test_mask[i,j]:\r\n",
        "                out = out.append({\"Well\": str(201+j)+'-'+str(901+i), \"X\": 201+j, \"Y\": 901+i, \"NTG\": map_test[i,j]}, ignore_index=True)\r\n",
        "    return out"
      ],
      "execution_count": null,
      "outputs": []
    },
    {
      "cell_type": "code",
      "metadata": {
        "colab": {
          "base_uri": "https://localhost:8080/",
          "height": 178
        },
        "id": "2LNlH2I2kaZ7",
        "outputId": "ae99a224-3b45-4d3a-e10c-d2c3c1ae8ca6"
      },
      "source": [
        "out_baseline = get_pandas_out(map_test, test_mask)\r\n",
        "out_baseline"
      ],
      "execution_count": null,
      "outputs": [
        {
          "output_type": "error",
          "ename": "NameError",
          "evalue": "ignored",
          "traceback": [
            "\u001b[0;31m---------------------------------------------------------------------------\u001b[0m",
            "\u001b[0;31mNameError\u001b[0m                                 Traceback (most recent call last)",
            "\u001b[0;32m<ipython-input-117-06183853ca92>\u001b[0m in \u001b[0;36m<module>\u001b[0;34m()\u001b[0m\n\u001b[0;32m----> 1\u001b[0;31m \u001b[0mout_baseline\u001b[0m \u001b[0;34m=\u001b[0m \u001b[0mget_pandas_out\u001b[0m\u001b[0;34m(\u001b[0m\u001b[0mmap_test\u001b[0m\u001b[0;34m,\u001b[0m \u001b[0mtest_mask\u001b[0m\u001b[0;34m)\u001b[0m\u001b[0;34m\u001b[0m\u001b[0;34m\u001b[0m\u001b[0m\n\u001b[0m\u001b[1;32m      2\u001b[0m \u001b[0mout_baseline\u001b[0m\u001b[0;34m\u001b[0m\u001b[0;34m\u001b[0m\u001b[0m\n",
            "\u001b[0;31mNameError\u001b[0m: name 'test_mask' is not defined"
          ]
        }
      ]
    },
    {
      "cell_type": "code",
      "metadata": {
        "id": "5B-0cJN_l02h"
      },
      "source": [
        "# 26 фев 2021, 22:59:32\r\n",
        "\r\n",
        "out_baseline.to_csv('out_baseline.csv', index=False)"
      ],
      "execution_count": null,
      "outputs": []
    },
    {
      "cell_type": "markdown",
      "metadata": {
        "id": "U-hCQigcOXux"
      },
      "source": [
        "# Карта весов"
      ]
    },
    {
      "cell_type": "code",
      "metadata": {
        "id": "RjMFs6yITovE"
      },
      "source": [
        "map_fake_train = map_train.copy()\r\n",
        "for i in range(map_fake_train.shape[0]):\r\n",
        "    for j in range(map_fake_train.shape[1]):\r\n",
        "        if not np.isnan(map_fake_train[i,j]):\r\n",
        "            map_fake_train[i,j] = moving_average(i, j, map_train)"
      ],
      "execution_count": null,
      "outputs": []
    },
    {
      "cell_type": "code",
      "metadata": {
        "id": "ls9ZoO6_UG3n"
      },
      "source": [
        "weight_map_train = map_train / map_fake_train"
      ],
      "execution_count": null,
      "outputs": []
    },
    {
      "cell_type": "code",
      "metadata": {
        "colab": {
          "base_uri": "https://localhost:8080/",
          "height": 592
        },
        "id": "cbSv4iLcUKAQ",
        "outputId": "a5fd512b-fbe1-4953-eee9-fe11ba1d1e79"
      },
      "source": [
        "plt.figure(figsize=(16,10))\r\n",
        "ax = sns.heatmap(weight_map_train)\r\n",
        "ax.invert_yaxis()\r\n",
        "plt.show()"
      ],
      "execution_count": null,
      "outputs": [
        {
          "output_type": "display_data",
          "data": {
            "image/png": "[encoded data removed]",
            "text/plain": [
              "<Figure size 1152x720 with 2 Axes>"
            ]
          },
          "metadata": {
            "tags": [],
            "needs_background": "light"
          }
        }
      ]
    },
    {
      "cell_type": "code",
      "metadata": {
        "colab": {
          "base_uri": "https://localhost:8080/"
        },
        "id": "ro7VKghMUhC3",
        "outputId": "e446745a-a505-436f-bc22-d32368b1e074"
      },
      "source": [
        "weight_map_test = weight_map_train.copy()\r\n",
        "for i in range(weight_map_test.shape[0]):\r\n",
        "    for j in range(weight_map_test.shape[1]):\r\n",
        "        if np.isnan(weight_map_test[i,j]):\r\n",
        "            weight_map_test[i,j] = moving_average(i, j, weight_map_train)\r\n",
        "weight_map_test"
      ],
      "execution_count": null,
      "outputs": [
        {
          "output_type": "execute_result",
          "data": {
            "text/plain": [
              "array([[0.94739694, 0.95448421, 0.96090874, ..., 1.16642655, 1.14761378,\n",
              "        1.13748344],\n",
              "       [0.94075007, 0.95540322, 0.98159014, ..., 1.20070222, 1.17422237,\n",
              "        1.16963979],\n",
              "       [0.92762983, 0.92908611, 0.91889033, ..., 1.2118549 , 1.20985406,\n",
              "        1.23514354],\n",
              "       ...,\n",
              "       [1.02543025, 1.02267218, 1.01941289, ..., 1.11636082, 1.07768047,\n",
              "        1.04910896],\n",
              "       [1.01704487, 1.01752045, 1.02453814, ..., 1.08978455, 1.06264807,\n",
              "        1.04419921],\n",
              "       [1.01069055, 1.01001772, 1.00810021, ..., 1.05779958, 1.04708072,\n",
              "        1.03664686]])"
            ]
          },
          "metadata": {
            "tags": []
          },
          "execution_count": 37
        }
      ]
    },
    {
      "cell_type": "code",
      "metadata": {
        "colab": {
          "base_uri": "https://localhost:8080/",
          "height": 592
        },
        "id": "i6cgDFCdXICC",
        "outputId": "6461e5b0-873a-4d11-c508-384db940b032"
      },
      "source": [
        "plt.figure(figsize=(16,10))\r\n",
        "ax = sns.heatmap(weight_map_test)\r\n",
        "ax.invert_yaxis()\r\n",
        "plt.show()"
      ],
      "execution_count": null,
      "outputs": [
        {
          "output_type": "display_data",
          "data": {
            "image/png": "[encoded data removed]",
            "text/plain": [
              "<Figure size 1152x720 with 2 Axes>"
            ]
          },
          "metadata": {
            "tags": [],
            "needs_background": "light"
          }
        }
      ]
    },
    {
      "cell_type": "code",
      "metadata": {
        "id": "7w7Van6EXLZW"
      },
      "source": [
        "map_test = map_train.copy()\r\n",
        "for i in range(map_test.shape[0]):\r\n",
        "    for j in range(map_test.shape[1]):\r\n",
        "        if np.isnan(map_test[i,j]):\r\n",
        "            map_test[i,j] = moving_average(i, j, map_train) * weight_map_test[i, j]"
      ],
      "execution_count": null,
      "outputs": []
    },
    {
      "cell_type": "code",
      "metadata": {
        "colab": {
          "base_uri": "https://localhost:8080/",
          "height": 592
        },
        "id": "iMFe6vdUXZSp",
        "outputId": "e4c5f122-4d23-4589-ac39-17f67b54860a"
      },
      "source": [
        "plt.figure(figsize=(16,10))\r\n",
        "ax = sns.heatmap(map_test)\r\n",
        "ax.invert_yaxis()\r\n",
        "plt.show()"
      ],
      "execution_count": null,
      "outputs": [
        {
          "output_type": "display_data",
          "data": {
            "image/png": "[encoded data removed]",
            "text/plain": [
              "<Figure size 1152x720 with 2 Axes>"
            ]
          },
          "metadata": {
            "tags": [],
            "needs_background": "light"
          }
        }
      ]
    },
    {
      "cell_type": "code",
      "metadata": {
        "colab": {
          "base_uri": "https://localhost:8080/",
          "height": 402
        },
        "id": "hZXYhLIzXi8v",
        "outputId": "74f35ef1-17ea-4874-abf0-1ff0e9a9f1e5"
      },
      "source": [
        "out_weighted = get_pandas_out(map_test, test_mask)\r\n",
        "out_weighted"
      ],
      "execution_count": null,
      "outputs": [
        {
          "output_type": "execute_result",
          "data": {
            "text/html": [
              "<div>\n",
              "<style scoped>\n",
              "    .dataframe tbody tr th:only-of-type {\n",
              "        vertical-align: middle;\n",
              "    }\n",
              "\n",
              "    .dataframe tbody tr th {\n",
              "        vertical-align: top;\n",
              "    }\n",
              "\n",
              "    .dataframe thead th {\n",
              "        text-align: right;\n",
              "    }\n",
              "</style>\n",
              "<table border=\"1\" class=\"dataframe\">\n",
              "  <thead>\n",
              "    <tr style=\"text-align: right;\">\n",
              "      <th></th>\n",
              "      <th>Well</th>\n",
              "      <th>X</th>\n",
              "      <th>Y</th>\n",
              "      <th>NTG</th>\n",
              "    </tr>\n",
              "  </thead>\n",
              "  <tbody>\n",
              "    <tr>\n",
              "      <th>0</th>\n",
              "      <td>201-901</td>\n",
              "      <td>201</td>\n",
              "      <td>901</td>\n",
              "      <td>0.264430</td>\n",
              "    </tr>\n",
              "    <tr>\n",
              "      <th>1</th>\n",
              "      <td>201-902</td>\n",
              "      <td>201</td>\n",
              "      <td>902</td>\n",
              "      <td>0.257814</td>\n",
              "    </tr>\n",
              "    <tr>\n",
              "      <th>2</th>\n",
              "      <td>201-903</td>\n",
              "      <td>201</td>\n",
              "      <td>903</td>\n",
              "      <td>0.250444</td>\n",
              "    </tr>\n",
              "    <tr>\n",
              "      <th>3</th>\n",
              "      <td>201-904</td>\n",
              "      <td>201</td>\n",
              "      <td>904</td>\n",
              "      <td>0.241635</td>\n",
              "    </tr>\n",
              "    <tr>\n",
              "      <th>4</th>\n",
              "      <td>201-905</td>\n",
              "      <td>201</td>\n",
              "      <td>905</td>\n",
              "      <td>0.228538</td>\n",
              "    </tr>\n",
              "    <tr>\n",
              "      <th>...</th>\n",
              "      <td>...</td>\n",
              "      <td>...</td>\n",
              "      <td>...</td>\n",
              "      <td>...</td>\n",
              "    </tr>\n",
              "    <tr>\n",
              "      <th>1237</th>\n",
              "      <td>246-926</td>\n",
              "      <td>246</td>\n",
              "      <td>926</td>\n",
              "      <td>0.352021</td>\n",
              "    </tr>\n",
              "    <tr>\n",
              "      <th>1238</th>\n",
              "      <td>246-927</td>\n",
              "      <td>246</td>\n",
              "      <td>927</td>\n",
              "      <td>0.356917</td>\n",
              "    </tr>\n",
              "    <tr>\n",
              "      <th>1239</th>\n",
              "      <td>246-928</td>\n",
              "      <td>246</td>\n",
              "      <td>928</td>\n",
              "      <td>0.357333</td>\n",
              "    </tr>\n",
              "    <tr>\n",
              "      <th>1240</th>\n",
              "      <td>246-929</td>\n",
              "      <td>246</td>\n",
              "      <td>929</td>\n",
              "      <td>0.352419</td>\n",
              "    </tr>\n",
              "    <tr>\n",
              "      <th>1241</th>\n",
              "      <td>246-930</td>\n",
              "      <td>246</td>\n",
              "      <td>930</td>\n",
              "      <td>0.345821</td>\n",
              "    </tr>\n",
              "  </tbody>\n",
              "</table>\n",
              "<p>1242 rows × 4 columns</p>\n",
              "</div>"
            ],
            "text/plain": [
              "         Well    X    Y       NTG\n",
              "0     201-901  201  901  0.264430\n",
              "1     201-902  201  902  0.257814\n",
              "2     201-903  201  903  0.250444\n",
              "3     201-904  201  904  0.241635\n",
              "4     201-905  201  905  0.228538\n",
              "...       ...  ...  ...       ...\n",
              "1237  246-926  246  926  0.352021\n",
              "1238  246-927  246  927  0.356917\n",
              "1239  246-928  246  928  0.357333\n",
              "1240  246-929  246  929  0.352419\n",
              "1241  246-930  246  930  0.345821\n",
              "\n",
              "[1242 rows x 4 columns]"
            ]
          },
          "metadata": {
            "tags": []
          },
          "execution_count": 42
        }
      ]
    },
    {
      "cell_type": "code",
      "metadata": {
        "id": "_EYpepvbZmDu"
      },
      "source": [
        "# 27 фев 2021, 02:36:22\r\n",
        "\r\n",
        "out_weighted.to_csv('out_weighted.csv', index=False)"
      ],
      "execution_count": null,
      "outputs": []
    },
    {
      "cell_type": "markdown",
      "metadata": {
        "id": "jqgQ5A2ZRhO8"
      },
      "source": [
        "# Стохастический метод"
      ]
    },
    {
      "cell_type": "code",
      "metadata": {
        "id": "ZF53oxwEaHCu"
      },
      "source": [
        "test_mask = pd.isnull(map_train)"
      ],
      "execution_count": null,
      "outputs": []
    },
    {
      "cell_type": "code",
      "metadata": {
        "id": "43jewhVOVSdX"
      },
      "source": [
        "idx = np.argwhere(test_mask.ravel())"
      ],
      "execution_count": null,
      "outputs": []
    },
    {
      "cell_type": "code",
      "metadata": {
        "id": "cuLOBFtrVoEC"
      },
      "source": [
        "map_test = np.zeros_like(map_train)\r\n",
        "for k in range(5):\r\n",
        "    map_test_sample = map_train.copy()\r\n",
        "    np.random.seed(k)\r\n",
        "    random_idx = np.random.permutation(idx)\r\n",
        "    random_idx = np.hstack(np.unravel_index(random_idx, (test_mask.shape[0], test_mask.shape[1])))\r\n",
        "\r\n",
        "    for i, j in random_idx:\r\n",
        "        if np.isnan(map_test_sample[i,j]):\r\n",
        "            map_test_sample[i,j] = moving_average(i, j, map_test_sample)\r\n",
        "    map_test += map_test_sample\r\n",
        "\r\n",
        "map_test /= 5.0"
      ],
      "execution_count": null,
      "outputs": []
    },
    {
      "cell_type": "code",
      "metadata": {
        "colab": {
          "base_uri": "https://localhost:8080/"
        },
        "id": "d_pA1J43ZL5v",
        "outputId": "60afee3f-7060-4828-ad98-2681edb8d1de"
      },
      "source": [
        "map_test"
      ],
      "execution_count": null,
      "outputs": [
        {
          "output_type": "execute_result",
          "data": {
            "text/plain": [
              "array([[0.29502291, 0.28695508, 0.28640622, ..., 0.35324223, 0.3496803 ,\n",
              "        0.3470746 ],\n",
              "       [0.29501624, 0.28640146, 0.2628    , ..., 0.36014104, 0.35136639,\n",
              "        0.34955615],\n",
              "       [0.29146627, 0.28027814, 0.28465407, ..., 0.3592884 , 0.35127792,\n",
              "        0.35636995],\n",
              "       ...,\n",
              "       [0.34611117, 0.34370878, 0.34104184, ..., 0.33992489, 0.33140075,\n",
              "        0.32731688],\n",
              "       [0.34022728, 0.34035671, 0.3452    , ..., 0.3336218 , 0.33109084,\n",
              "        0.32592408],\n",
              "       [0.33735944, 0.3377733 , 0.33547534, ..., 0.32713946, 0.327151  ,\n",
              "        0.32664275]])"
            ]
          },
          "metadata": {
            "tags": []
          },
          "execution_count": 102
        }
      ]
    },
    {
      "cell_type": "code",
      "metadata": {
        "colab": {
          "base_uri": "https://localhost:8080/",
          "height": 592
        },
        "id": "X1d1ROCeZYIn",
        "outputId": "28653a56-cd82-40d6-f01a-365ad1fbbb81"
      },
      "source": [
        "plt.figure(figsize=(16,10))\r\n",
        "ax = sns.heatmap(map_test)\r\n",
        "ax.invert_yaxis()\r\n",
        "plt.show()"
      ],
      "execution_count": null,
      "outputs": [
        {
          "output_type": "display_data",
          "data": {
            "image/png": "[encoded data removed]",
            "text/plain": [
              "<Figure size 1152x720 with 2 Axes>"
            ]
          },
          "metadata": {
            "tags": [],
            "needs_background": "light"
          }
        }
      ]
    },
    {
      "cell_type": "code",
      "metadata": {
        "colab": {
          "base_uri": "https://localhost:8080/",
          "height": 402
        },
        "id": "RkVjm8Y_bpMH",
        "outputId": "292156ce-ca5b-4d83-a451-ff12567cf9ef"
      },
      "source": [
        "out_stochastic = get_pandas_out(map_test, test_mask)\r\n",
        "out_stochastic"
      ],
      "execution_count": null,
      "outputs": [
        {
          "output_type": "execute_result",
          "data": {
            "text/html": [
              "<div>\n",
              "<style scoped>\n",
              "    .dataframe tbody tr th:only-of-type {\n",
              "        vertical-align: middle;\n",
              "    }\n",
              "\n",
              "    .dataframe tbody tr th {\n",
              "        vertical-align: top;\n",
              "    }\n",
              "\n",
              "    .dataframe thead th {\n",
              "        text-align: right;\n",
              "    }\n",
              "</style>\n",
              "<table border=\"1\" class=\"dataframe\">\n",
              "  <thead>\n",
              "    <tr style=\"text-align: right;\">\n",
              "      <th></th>\n",
              "      <th>Well</th>\n",
              "      <th>X</th>\n",
              "      <th>Y</th>\n",
              "      <th>NTG</th>\n",
              "    </tr>\n",
              "  </thead>\n",
              "  <tbody>\n",
              "    <tr>\n",
              "      <th>0</th>\n",
              "      <td>201-901</td>\n",
              "      <td>201</td>\n",
              "      <td>901</td>\n",
              "      <td>0.295023</td>\n",
              "    </tr>\n",
              "    <tr>\n",
              "      <th>1</th>\n",
              "      <td>201-902</td>\n",
              "      <td>201</td>\n",
              "      <td>902</td>\n",
              "      <td>0.295016</td>\n",
              "    </tr>\n",
              "    <tr>\n",
              "      <th>2</th>\n",
              "      <td>201-903</td>\n",
              "      <td>201</td>\n",
              "      <td>903</td>\n",
              "      <td>0.291466</td>\n",
              "    </tr>\n",
              "    <tr>\n",
              "      <th>3</th>\n",
              "      <td>201-904</td>\n",
              "      <td>201</td>\n",
              "      <td>904</td>\n",
              "      <td>0.287041</td>\n",
              "    </tr>\n",
              "    <tr>\n",
              "      <th>4</th>\n",
              "      <td>201-905</td>\n",
              "      <td>201</td>\n",
              "      <td>905</td>\n",
              "      <td>0.281442</td>\n",
              "    </tr>\n",
              "    <tr>\n",
              "      <th>...</th>\n",
              "      <td>...</td>\n",
              "      <td>...</td>\n",
              "      <td>...</td>\n",
              "      <td>...</td>\n",
              "    </tr>\n",
              "    <tr>\n",
              "      <th>1237</th>\n",
              "      <td>246-926</td>\n",
              "      <td>246</td>\n",
              "      <td>926</td>\n",
              "      <td>0.326224</td>\n",
              "    </tr>\n",
              "    <tr>\n",
              "      <th>1238</th>\n",
              "      <td>246-927</td>\n",
              "      <td>246</td>\n",
              "      <td>927</td>\n",
              "      <td>0.327561</td>\n",
              "    </tr>\n",
              "    <tr>\n",
              "      <th>1239</th>\n",
              "      <td>246-928</td>\n",
              "      <td>246</td>\n",
              "      <td>928</td>\n",
              "      <td>0.327317</td>\n",
              "    </tr>\n",
              "    <tr>\n",
              "      <th>1240</th>\n",
              "      <td>246-929</td>\n",
              "      <td>246</td>\n",
              "      <td>929</td>\n",
              "      <td>0.325924</td>\n",
              "    </tr>\n",
              "    <tr>\n",
              "      <th>1241</th>\n",
              "      <td>246-930</td>\n",
              "      <td>246</td>\n",
              "      <td>930</td>\n",
              "      <td>0.326643</td>\n",
              "    </tr>\n",
              "  </tbody>\n",
              "</table>\n",
              "<p>1242 rows × 4 columns</p>\n",
              "</div>"
            ],
            "text/plain": [
              "         Well    X    Y       NTG\n",
              "0     201-901  201  901  0.295023\n",
              "1     201-902  201  902  0.295016\n",
              "2     201-903  201  903  0.291466\n",
              "3     201-904  201  904  0.287041\n",
              "4     201-905  201  905  0.281442\n",
              "...       ...  ...  ...       ...\n",
              "1237  246-926  246  926  0.326224\n",
              "1238  246-927  246  927  0.327561\n",
              "1239  246-928  246  928  0.327317\n",
              "1240  246-929  246  929  0.325924\n",
              "1241  246-930  246  930  0.326643\n",
              "\n",
              "[1242 rows x 4 columns]"
            ]
          },
          "metadata": {
            "tags": []
          },
          "execution_count": 105
        }
      ]
    },
    {
      "cell_type": "code",
      "metadata": {
        "id": "tOvFWGoOd72i"
      },
      "source": [
        "# 28 фев 2021, 02:11:53\r\n",
        "\r\n",
        "out_stochastic.to_csv('out_stochastic.csv', index=False)"
      ],
      "execution_count": null,
      "outputs": []
    },
    {
      "cell_type": "markdown",
      "metadata": {
        "id": "PoLKlbrueyao"
      },
      "source": [
        "# Карта весов + стохастический метод"
      ]
    },
    {
      "cell_type": "code",
      "metadata": {
        "id": "QHYN5mXdeEGK"
      },
      "source": [
        "map_fake_train = map_train.copy()\r\n",
        "for i in range(map_fake_train.shape[0]):\r\n",
        "    for j in range(map_fake_train.shape[1]):\r\n",
        "        if not np.isnan(map_fake_train[i,j]):\r\n",
        "            map_fake_train[i,j] = moving_average(i, j, map_train)\r\n",
        "weight_map_train = map_train / map_fake_train"
      ],
      "execution_count": null,
      "outputs": []
    },
    {
      "cell_type": "code",
      "metadata": {
        "colab": {
          "base_uri": "https://localhost:8080/"
        },
        "id": "V3SMl9J9fCZU",
        "outputId": "b63dd3bd-86d7-41d5-bb5f-1569209d9c6e"
      },
      "source": [
        "weight_map_test = weight_map_train.copy()\r\n",
        "for i in range(weight_map_test.shape[0]):\r\n",
        "    for j in range(weight_map_test.shape[1]):\r\n",
        "        if np.isnan(weight_map_test[i,j]):\r\n",
        "            weight_map_test[i,j] = moving_average(i, j, weight_map_train)\r\n",
        "weight_map_test"
      ],
      "execution_count": null,
      "outputs": [
        {
          "output_type": "execute_result",
          "data": {
            "text/plain": [
              "array([[0.94739694, 0.95448421, 0.96090874, ..., 1.16642655, 1.14761378,\n",
              "        1.13748344],\n",
              "       [0.94075007, 0.95540322, 0.98159014, ..., 1.20070222, 1.17422237,\n",
              "        1.16963979],\n",
              "       [0.92762983, 0.92908611, 0.91889033, ..., 1.2118549 , 1.20985406,\n",
              "        1.23514354],\n",
              "       ...,\n",
              "       [1.02543025, 1.02267218, 1.01941289, ..., 1.11636082, 1.07768047,\n",
              "        1.04910896],\n",
              "       [1.01704487, 1.01752045, 1.02453814, ..., 1.08978455, 1.06264807,\n",
              "        1.04419921],\n",
              "       [1.01069055, 1.01001772, 1.00810021, ..., 1.05779958, 1.04708072,\n",
              "        1.03664686]])"
            ]
          },
          "metadata": {
            "tags": []
          },
          "execution_count": 108
        }
      ]
    },
    {
      "cell_type": "code",
      "metadata": {
        "colab": {
          "base_uri": "https://localhost:8080/",
          "height": 592
        },
        "id": "9gKX2i0YfWOV",
        "outputId": "5e6c7efc-4358-49fc-afe5-c64e62ce8908"
      },
      "source": [
        "plt.figure(figsize=(16,10))\r\n",
        "ax = sns.heatmap(weight_map_test)\r\n",
        "ax.invert_yaxis()\r\n",
        "plt.show()"
      ],
      "execution_count": null,
      "outputs": [
        {
          "output_type": "display_data",
          "data": {
            "image/png": "[encoded data removed]",
            "text/plain": [
              "<Figure size 1152x720 with 2 Axes>"
            ]
          },
          "metadata": {
            "tags": [],
            "needs_background": "light"
          }
        }
      ]
    },
    {
      "cell_type": "code",
      "metadata": {
        "id": "nbOC5d5Lfrd1"
      },
      "source": [
        "test_mask = pd.isnull(map_train)"
      ],
      "execution_count": null,
      "outputs": []
    },
    {
      "cell_type": "code",
      "metadata": {
        "id": "-7BclGx4ua_u"
      },
      "source": [
        "def stochastic_average(map_train, test_mask, n_itr):\r\n",
        "    idx = np.argwhere(test_mask.ravel())\r\n",
        "    map_test = np.zeros_like(map_train)\r\n",
        "    for k in range(n_itr):\r\n",
        "        map_test_sample = map_train.copy()\r\n",
        "        np.random.seed(k)\r\n",
        "        random_idx = np.random.permutation(idx)\r\n",
        "        random_idx = np.hstack(np.unravel_index(random_idx, (test_mask.shape[0], test_mask.shape[1])))\r\n",
        "\r\n",
        "        for i, j in random_idx:\r\n",
        "            if np.isnan(map_test_sample[i,j]):\r\n",
        "                map_test_sample[i,j] = moving_average(i, j, map_test_sample) * weight_map_test[i, j]\r\n",
        "        map_test += map_test_sample\r\n",
        "\r\n",
        "    map_test /= n_itr\r\n",
        "    return map_test"
      ],
      "execution_count": null,
      "outputs": []
    },
    {
      "cell_type": "code",
      "metadata": {
        "id": "bfraHJx8utH2"
      },
      "source": [
        "map_test = stochastic_average(map_train, test_mask, 5)"
      ],
      "execution_count": null,
      "outputs": []
    },
    {
      "cell_type": "code",
      "metadata": {
        "colab": {
          "base_uri": "https://localhost:8080/",
          "height": 592
        },
        "id": "v53j8SyRgT7c",
        "outputId": "7b9c5d57-a2aa-4ccd-d0fe-d7225e791e92"
      },
      "source": [
        "plt.figure(figsize=(16,10))\r\n",
        "ax = sns.heatmap(map_test)\r\n",
        "ax.invert_yaxis()\r\n",
        "plt.show()"
      ],
      "execution_count": null,
      "outputs": [
        {
          "output_type": "display_data",
          "data": {
            "image/png": "[encoded data removed]",
            "text/plain": [
              "<Figure size 1152x720 with 2 Axes>"
            ]
          },
          "metadata": {
            "tags": [],
            "needs_background": "light"
          }
        }
      ]
    },
    {
      "cell_type": "code",
      "metadata": {
        "colab": {
          "base_uri": "https://localhost:8080/",
          "height": 402
        },
        "id": "XiZKLzH4iYF4",
        "outputId": "7f998fdd-0237-47b2-affa-1bfd1b9a7f50"
      },
      "source": [
        "out_weight_stochastic = get_pandas_out(map_test, test_mask)\r\n",
        "out_weight_stochastic"
      ],
      "execution_count": null,
      "outputs": [
        {
          "output_type": "execute_result",
          "data": {
            "text/html": [
              "<div>\n",
              "<style scoped>\n",
              "    .dataframe tbody tr th:only-of-type {\n",
              "        vertical-align: middle;\n",
              "    }\n",
              "\n",
              "    .dataframe tbody tr th {\n",
              "        vertical-align: top;\n",
              "    }\n",
              "\n",
              "    .dataframe thead th {\n",
              "        text-align: right;\n",
              "    }\n",
              "</style>\n",
              "<table border=\"1\" class=\"dataframe\">\n",
              "  <thead>\n",
              "    <tr style=\"text-align: right;\">\n",
              "      <th></th>\n",
              "      <th>Well</th>\n",
              "      <th>X</th>\n",
              "      <th>Y</th>\n",
              "      <th>NTG</th>\n",
              "    </tr>\n",
              "  </thead>\n",
              "  <tbody>\n",
              "    <tr>\n",
              "      <th>0</th>\n",
              "      <td>201-901</td>\n",
              "      <td>201</td>\n",
              "      <td>901</td>\n",
              "      <td>0.263528</td>\n",
              "    </tr>\n",
              "    <tr>\n",
              "      <th>1</th>\n",
              "      <td>201-902</td>\n",
              "      <td>201</td>\n",
              "      <td>902</td>\n",
              "      <td>0.255494</td>\n",
              "    </tr>\n",
              "    <tr>\n",
              "      <th>2</th>\n",
              "      <td>201-903</td>\n",
              "      <td>201</td>\n",
              "      <td>903</td>\n",
              "      <td>0.247041</td>\n",
              "    </tr>\n",
              "    <tr>\n",
              "      <th>3</th>\n",
              "      <td>201-904</td>\n",
              "      <td>201</td>\n",
              "      <td>904</td>\n",
              "      <td>0.245450</td>\n",
              "    </tr>\n",
              "    <tr>\n",
              "      <th>4</th>\n",
              "      <td>201-905</td>\n",
              "      <td>201</td>\n",
              "      <td>905</td>\n",
              "      <td>0.236253</td>\n",
              "    </tr>\n",
              "    <tr>\n",
              "      <th>...</th>\n",
              "      <td>...</td>\n",
              "      <td>...</td>\n",
              "      <td>...</td>\n",
              "      <td>...</td>\n",
              "    </tr>\n",
              "    <tr>\n",
              "      <th>1237</th>\n",
              "      <td>246-926</td>\n",
              "      <td>246</td>\n",
              "      <td>926</td>\n",
              "      <td>0.348946</td>\n",
              "    </tr>\n",
              "    <tr>\n",
              "      <th>1238</th>\n",
              "      <td>246-927</td>\n",
              "      <td>246</td>\n",
              "      <td>927</td>\n",
              "      <td>0.356353</td>\n",
              "    </tr>\n",
              "    <tr>\n",
              "      <th>1239</th>\n",
              "      <td>246-928</td>\n",
              "      <td>246</td>\n",
              "      <td>928</td>\n",
              "      <td>0.356945</td>\n",
              "    </tr>\n",
              "    <tr>\n",
              "      <th>1240</th>\n",
              "      <td>246-929</td>\n",
              "      <td>246</td>\n",
              "      <td>929</td>\n",
              "      <td>0.360794</td>\n",
              "    </tr>\n",
              "    <tr>\n",
              "      <th>1241</th>\n",
              "      <td>246-930</td>\n",
              "      <td>246</td>\n",
              "      <td>930</td>\n",
              "      <td>0.348702</td>\n",
              "    </tr>\n",
              "  </tbody>\n",
              "</table>\n",
              "<p>1242 rows × 4 columns</p>\n",
              "</div>"
            ],
            "text/plain": [
              "         Well    X    Y       NTG\n",
              "0     201-901  201  901  0.263528\n",
              "1     201-902  201  902  0.255494\n",
              "2     201-903  201  903  0.247041\n",
              "3     201-904  201  904  0.245450\n",
              "4     201-905  201  905  0.236253\n",
              "...       ...  ...  ...       ...\n",
              "1237  246-926  246  926  0.348946\n",
              "1238  246-927  246  927  0.356353\n",
              "1239  246-928  246  928  0.356945\n",
              "1240  246-929  246  929  0.360794\n",
              "1241  246-930  246  930  0.348702\n",
              "\n",
              "[1242 rows x 4 columns]"
            ]
          },
          "metadata": {
            "tags": []
          },
          "execution_count": 119
        }
      ]
    },
    {
      "cell_type": "code",
      "metadata": {
        "id": "QiV6ZC1piPbd"
      },
      "source": [
        "# 28 фев 2021, 02:29:58\r\n",
        "\r\n",
        "out_weight_stochastic.to_csv('out_weight_stochastic.csv', index=False)"
      ],
      "execution_count": null,
      "outputs": []
    },
    {
      "cell_type": "markdown",
      "metadata": {
        "id": "t8glQ4uFniv9"
      },
      "source": [
        "# Рекурсивная карта весов"
      ]
    },
    {
      "cell_type": "code",
      "metadata": {
        "id": "qrAyLzlcnxFR"
      },
      "source": [
        "def recursive_weight_map(train, level=0):\r\n",
        "    fake_train = train.copy()\r\n",
        "    for i in range(fake_train.shape[0]):\r\n",
        "        for j in range(fake_train.shape[1]):\r\n",
        "            if not np.isnan(fake_train[i,j]):\r\n",
        "                fake_train[i,j] = moving_average(i, j, train)\r\n",
        "    weight_train = train / fake_train\r\n",
        "\r\n",
        "    if level > 0:\r\n",
        "        weight_test = recursive_weight_map(weight_train, level - 1)\r\n",
        "    else:\r\n",
        "        weight_test = weight_train.copy()\r\n",
        "        for i in range(weight_test.shape[0]):\r\n",
        "            for j in range(weight_test.shape[1]):\r\n",
        "                if np.isnan(weight_test[i,j]):\r\n",
        "                    weight_test[i,j] = moving_average(i, j, weight_train)\r\n",
        "    \r\n",
        "    test = train.copy()\r\n",
        "    for i in range(test.shape[0]):\r\n",
        "        for j in range(test.shape[1]):\r\n",
        "            if np.isnan(test[i,j]):\r\n",
        "                test[i,j] = moving_average(i, j, train) * weight_test[i, j]\r\n",
        "    \r\n",
        "    return test"
      ],
      "execution_count": null,
      "outputs": []
    },
    {
      "cell_type": "code",
      "metadata": {
        "id": "Bv8lTnOgidFj"
      },
      "source": [
        "map_test = recursive_weight_map(map_train, 2)"
      ],
      "execution_count": null,
      "outputs": []
    },
    {
      "cell_type": "code",
      "metadata": {
        "colab": {
          "base_uri": "https://localhost:8080/"
        },
        "id": "J_ZS7dWLq3xj",
        "outputId": "65ee982c-5211-466c-f339-b568c08f7fc3"
      },
      "source": [
        "map_test"
      ],
      "execution_count": null,
      "outputs": [
        {
          "output_type": "execute_result",
          "data": {
            "text/plain": [
              "array([[0.28033208, 0.29149839, 0.3011265 , ..., 0.57577361, 0.54436797,\n",
              "        0.52825503],\n",
              "       [0.27278415, 0.29382781, 0.2628    , ..., 0.64399979, 0.59601288,\n",
              "        0.58976502],\n",
              "       [0.25719451, 0.25966711, 0.24625218, ..., 0.66973889, 0.67226734,\n",
              "        0.73179552],\n",
              "       ...,\n",
              "       [0.37252885, 0.37013013, 0.36721745, ..., 0.49533551, 0.43181153,\n",
              "        0.38638185],\n",
              "       [0.36183349, 0.36408776, 0.3452    , ..., 0.44666232, 0.40595425,\n",
              "        0.37895561],\n",
              "       [0.35326289, 0.35346585, 0.35172872, ..., 0.39757442, 0.38266669,\n",
              "        0.36824858]])"
            ]
          },
          "metadata": {
            "tags": []
          },
          "execution_count": 158
        }
      ]
    },
    {
      "cell_type": "code",
      "metadata": {
        "colab": {
          "base_uri": "https://localhost:8080/",
          "height": 594
        },
        "id": "iafkUdCQy_ee",
        "outputId": "72f29da5-9482-40fa-c89f-7f104afe55e5"
      },
      "source": [
        "plt.figure(figsize=(16,10))\r\n",
        "ax = sns.heatmap(map_test)\r\n",
        "ax.invert_yaxis()\r\n",
        "plt.show()"
      ],
      "execution_count": null,
      "outputs": [
        {
          "output_type": "display_data",
          "data": {
            "image/png": "[encoded data removed]",
            "text/plain": [
              "<Figure size 1152x720 with 2 Axes>"
            ]
          },
          "metadata": {
            "tags": [],
            "needs_background": "light"
          }
        }
      ]
    },
    {
      "cell_type": "code",
      "metadata": {
        "colab": {
          "base_uri": "https://localhost:8080/",
          "height": 595
        },
        "id": "fPFaTzH2rMOr",
        "outputId": "ed578078-db16-47f9-8096-74520b8b545a"
      },
      "source": [
        "plt.figure(figsize=(16,10))\r\n",
        "ax = sns.heatmap(map_test, cmap='gist_rainbow', vmax=1.)\r\n",
        "ax.invert_yaxis()\r\n",
        "plt.show()"
      ],
      "execution_count": null,
      "outputs": [
        {
          "output_type": "display_data",
          "data": {
            "image/png": "[encoded data removed]",
            "text/plain": [
              "<Figure size 1152x720 with 2 Axes>"
            ]
          },
          "metadata": {
            "tags": [],
            "needs_background": "light"
          }
        }
      ]
    },
    {
      "cell_type": "code",
      "metadata": {
        "id": "kXspQKejrhru"
      },
      "source": [
        "def stochastic_recursive_weight_map(train, test_mask, level):\r\n",
        "    fake_train = train.copy()\r\n",
        "    for i in range(fake_train.shape[0]):\r\n",
        "        for j in range(fake_train.shape[1]):\r\n",
        "            if not np.isnan(fake_train[i,j]):\r\n",
        "                fake_train[i,j] = moving_average(i, j, train)\r\n",
        "    weight_train = train / fake_train\r\n",
        "\r\n",
        "    if level > 0:\r\n",
        "        weight_test = recursive_weight_map(weight_train, level - 1)\r\n",
        "    else:\r\n",
        "        weight_test = stochastic_average(weight_train, test_mask, 1)\r\n",
        "    \r\n",
        "    test = stochastic_average(train, test_mask, 1) * weight_test\r\n",
        "    \r\n",
        "    return test"
      ],
      "execution_count": null,
      "outputs": []
    },
    {
      "cell_type": "code",
      "metadata": {
        "id": "PbjvSJCwwPPY"
      },
      "source": [
        "map_test = stochastic_recursive_weight_map(map_train, test_mask, 2)"
      ],
      "execution_count": null,
      "outputs": []
    },
    {
      "cell_type": "code",
      "metadata": {
        "colab": {
          "base_uri": "https://localhost:8080/",
          "height": 596
        },
        "id": "onULyxxNwUeo",
        "outputId": "00df5a60-7883-49f8-825a-eeeaae352a27"
      },
      "source": [
        "plt.figure(figsize=(16,10))\r\n",
        "ax = sns.heatmap(map_test, cmap='gist_rainbow', vmax=1.)\r\n",
        "ax.invert_yaxis()\r\n",
        "plt.show()"
      ],
      "execution_count": null,
      "outputs": [
        {
          "output_type": "display_data",
          "data": {
            "image/png": "[encoded data removed]",
            "text/plain": [
              "<Figure size 1152x720 with 2 Axes>"
            ]
          },
          "metadata": {
            "tags": [],
            "needs_background": "light"
          }
        }
      ]
    },
    {
      "cell_type": "code",
      "metadata": {
        "id": "U5M6Vr7CxPI7"
      },
      "source": [
        "map_test = stochastic_recursive_weight_map(map_train, test_mask, 1)"
      ],
      "execution_count": null,
      "outputs": []
    },
    {
      "cell_type": "code",
      "metadata": {
        "colab": {
          "base_uri": "https://localhost:8080/",
          "height": 592
        },
        "id": "dJawjKri0IVz",
        "outputId": "863b9d3d-707a-447d-d17b-fa19e3bcad3c"
      },
      "source": [
        "plt.figure(figsize=(16,10))\r\n",
        "ax = sns.heatmap(map_test)\r\n",
        "ax.invert_yaxis()\r\n",
        "plt.show()"
      ],
      "execution_count": null,
      "outputs": [
        {
          "output_type": "display_data",
          "data": {
            "image/png": "[encoded data removed]",
            "text/plain": [
              "<Figure size 1152x720 with 2 Axes>"
            ]
          },
          "metadata": {
            "tags": [],
            "needs_background": "light"
          }
        }
      ]
    },
    {
      "cell_type": "markdown",
      "metadata": {
        "id": "HTAbdHZXOTDh"
      },
      "source": [
        "# Линейная регрессия"
      ]
    },
    {
      "cell_type": "code",
      "metadata": {
        "colab": {
          "base_uri": "https://localhost:8080/",
          "height": 402
        },
        "id": "s1ZQHkB1Hkb0",
        "outputId": "92fea6cc-ff43-47be-937c-044d337f1e66"
      },
      "source": [
        "train"
      ],
      "execution_count": null,
      "outputs": [
        {
          "output_type": "execute_result",
          "data": {
            "text/html": [
              "<div>\n",
              "<style scoped>\n",
              "    .dataframe tbody tr th:only-of-type {\n",
              "        vertical-align: middle;\n",
              "    }\n",
              "\n",
              "    .dataframe tbody tr th {\n",
              "        vertical-align: top;\n",
              "    }\n",
              "\n",
              "    .dataframe thead th {\n",
              "        text-align: right;\n",
              "    }\n",
              "</style>\n",
              "<table border=\"1\" class=\"dataframe\">\n",
              "  <thead>\n",
              "    <tr style=\"text-align: right;\">\n",
              "      <th></th>\n",
              "      <th>X</th>\n",
              "      <th>Y</th>\n",
              "      <th>NTG</th>\n",
              "    </tr>\n",
              "  </thead>\n",
              "  <tbody>\n",
              "    <tr>\n",
              "      <th>0</th>\n",
              "      <td>0</td>\n",
              "      <td>6</td>\n",
              "      <td>0.2006</td>\n",
              "    </tr>\n",
              "    <tr>\n",
              "      <th>1</th>\n",
              "      <td>0</td>\n",
              "      <td>13</td>\n",
              "      <td>0.3624</td>\n",
              "    </tr>\n",
              "    <tr>\n",
              "      <th>2</th>\n",
              "      <td>0</td>\n",
              "      <td>23</td>\n",
              "      <td>0.4381</td>\n",
              "    </tr>\n",
              "    <tr>\n",
              "      <th>3</th>\n",
              "      <td>1</td>\n",
              "      <td>21</td>\n",
              "      <td>0.4289</td>\n",
              "    </tr>\n",
              "    <tr>\n",
              "      <th>4</th>\n",
              "      <td>1</td>\n",
              "      <td>24</td>\n",
              "      <td>0.4021</td>\n",
              "    </tr>\n",
              "    <tr>\n",
              "      <th>...</th>\n",
              "      <td>...</td>\n",
              "      <td>...</td>\n",
              "      <td>...</td>\n",
              "    </tr>\n",
              "    <tr>\n",
              "      <th>133</th>\n",
              "      <td>44</td>\n",
              "      <td>7</td>\n",
              "      <td>0.2719</td>\n",
              "    </tr>\n",
              "    <tr>\n",
              "      <th>134</th>\n",
              "      <td>44</td>\n",
              "      <td>10</td>\n",
              "      <td>0.3780</td>\n",
              "    </tr>\n",
              "    <tr>\n",
              "      <th>135</th>\n",
              "      <td>44</td>\n",
              "      <td>22</td>\n",
              "      <td>0.4239</td>\n",
              "    </tr>\n",
              "    <tr>\n",
              "      <th>136</th>\n",
              "      <td>45</td>\n",
              "      <td>4</td>\n",
              "      <td>0.4900</td>\n",
              "    </tr>\n",
              "    <tr>\n",
              "      <th>137</th>\n",
              "      <td>45</td>\n",
              "      <td>22</td>\n",
              "      <td>0.3667</td>\n",
              "    </tr>\n",
              "  </tbody>\n",
              "</table>\n",
              "<p>138 rows × 3 columns</p>\n",
              "</div>"
            ],
            "text/plain": [
              "      X   Y     NTG\n",
              "0     0   6  0.2006\n",
              "1     0  13  0.3624\n",
              "2     0  23  0.4381\n",
              "3     1  21  0.4289\n",
              "4     1  24  0.4021\n",
              "..   ..  ..     ...\n",
              "133  44   7  0.2719\n",
              "134  44  10  0.3780\n",
              "135  44  22  0.4239\n",
              "136  45   4  0.4900\n",
              "137  45  22  0.3667\n",
              "\n",
              "[138 rows x 3 columns]"
            ]
          },
          "metadata": {
            "tags": []
          },
          "execution_count": 84
        }
      ]
    },
    {
      "cell_type": "code",
      "metadata": {
        "colab": {
          "base_uri": "https://localhost:8080/",
          "height": 402
        },
        "id": "wps6OK1jRpVI",
        "outputId": "d124fb94-3494-4675-e467-fd4cfd73ab9d"
      },
      "source": [
        "train['X'] /= 45.0\r\n",
        "train['Y'] /= 45.0\r\n",
        "train"
      ],
      "execution_count": null,
      "outputs": [
        {
          "output_type": "execute_result",
          "data": {
            "text/html": [
              "<div>\n",
              "<style scoped>\n",
              "    .dataframe tbody tr th:only-of-type {\n",
              "        vertical-align: middle;\n",
              "    }\n",
              "\n",
              "    .dataframe tbody tr th {\n",
              "        vertical-align: top;\n",
              "    }\n",
              "\n",
              "    .dataframe thead th {\n",
              "        text-align: right;\n",
              "    }\n",
              "</style>\n",
              "<table border=\"1\" class=\"dataframe\">\n",
              "  <thead>\n",
              "    <tr style=\"text-align: right;\">\n",
              "      <th></th>\n",
              "      <th>X</th>\n",
              "      <th>Y</th>\n",
              "      <th>NTG</th>\n",
              "    </tr>\n",
              "  </thead>\n",
              "  <tbody>\n",
              "    <tr>\n",
              "      <th>0</th>\n",
              "      <td>0.000000</td>\n",
              "      <td>0.133333</td>\n",
              "      <td>0.2006</td>\n",
              "    </tr>\n",
              "    <tr>\n",
              "      <th>1</th>\n",
              "      <td>0.000000</td>\n",
              "      <td>0.288889</td>\n",
              "      <td>0.3624</td>\n",
              "    </tr>\n",
              "    <tr>\n",
              "      <th>2</th>\n",
              "      <td>0.000000</td>\n",
              "      <td>0.511111</td>\n",
              "      <td>0.4381</td>\n",
              "    </tr>\n",
              "    <tr>\n",
              "      <th>3</th>\n",
              "      <td>0.022222</td>\n",
              "      <td>0.466667</td>\n",
              "      <td>0.4289</td>\n",
              "    </tr>\n",
              "    <tr>\n",
              "      <th>4</th>\n",
              "      <td>0.022222</td>\n",
              "      <td>0.533333</td>\n",
              "      <td>0.4021</td>\n",
              "    </tr>\n",
              "    <tr>\n",
              "      <th>...</th>\n",
              "      <td>...</td>\n",
              "      <td>...</td>\n",
              "      <td>...</td>\n",
              "    </tr>\n",
              "    <tr>\n",
              "      <th>133</th>\n",
              "      <td>0.977778</td>\n",
              "      <td>0.155556</td>\n",
              "      <td>0.2719</td>\n",
              "    </tr>\n",
              "    <tr>\n",
              "      <th>134</th>\n",
              "      <td>0.977778</td>\n",
              "      <td>0.222222</td>\n",
              "      <td>0.3780</td>\n",
              "    </tr>\n",
              "    <tr>\n",
              "      <th>135</th>\n",
              "      <td>0.977778</td>\n",
              "      <td>0.488889</td>\n",
              "      <td>0.4239</td>\n",
              "    </tr>\n",
              "    <tr>\n",
              "      <th>136</th>\n",
              "      <td>1.000000</td>\n",
              "      <td>0.088889</td>\n",
              "      <td>0.4900</td>\n",
              "    </tr>\n",
              "    <tr>\n",
              "      <th>137</th>\n",
              "      <td>1.000000</td>\n",
              "      <td>0.488889</td>\n",
              "      <td>0.3667</td>\n",
              "    </tr>\n",
              "  </tbody>\n",
              "</table>\n",
              "<p>138 rows × 3 columns</p>\n",
              "</div>"
            ],
            "text/plain": [
              "            X         Y     NTG\n",
              "0    0.000000  0.133333  0.2006\n",
              "1    0.000000  0.288889  0.3624\n",
              "2    0.000000  0.511111  0.4381\n",
              "3    0.022222  0.466667  0.4289\n",
              "4    0.022222  0.533333  0.4021\n",
              "..        ...       ...     ...\n",
              "133  0.977778  0.155556  0.2719\n",
              "134  0.977778  0.222222  0.3780\n",
              "135  0.977778  0.488889  0.4239\n",
              "136  1.000000  0.088889  0.4900\n",
              "137  1.000000  0.488889  0.3667\n",
              "\n",
              "[138 rows x 3 columns]"
            ]
          },
          "metadata": {
            "tags": []
          },
          "execution_count": 88
        }
      ]
    },
    {
      "cell_type": "code",
      "metadata": {
        "id": "RDozyHscSErk"
      },
      "source": [
        "def get_features(data, features_size):\r\n",
        "    new_data = data.copy()\r\n",
        "    centers = data.sample(n=features_size)\r\n",
        "    for i in range(len(centers)):\r\n",
        "        new_data[str(i)] = 1 / (new_data['X'] - centers.iloc[i]['X'])**2 + (new_data['Y'] - centers.iloc[i]['Y'])**2\r\n",
        "    return new_data"
      ],
      "execution_count": null,
      "outputs": []
    },
    {
      "cell_type": "code",
      "metadata": {
        "colab": {
          "base_uri": "https://localhost:8080/",
          "height": 402
        },
        "id": "_iUE7wSAcp4b",
        "outputId": "83760274-76ab-4e04-86c3-dfbe72fd564c"
      },
      "source": [
        "get_features(train, 5)"
      ],
      "execution_count": null,
      "outputs": [
        {
          "output_type": "execute_result",
          "data": {
            "text/html": [
              "<div>\n",
              "<style scoped>\n",
              "    .dataframe tbody tr th:only-of-type {\n",
              "        vertical-align: middle;\n",
              "    }\n",
              "\n",
              "    .dataframe tbody tr th {\n",
              "        vertical-align: top;\n",
              "    }\n",
              "\n",
              "    .dataframe thead th {\n",
              "        text-align: right;\n",
              "    }\n",
              "</style>\n",
              "<table border=\"1\" class=\"dataframe\">\n",
              "  <thead>\n",
              "    <tr style=\"text-align: right;\">\n",
              "      <th></th>\n",
              "      <th>X</th>\n",
              "      <th>Y</th>\n",
              "      <th>NTG</th>\n",
              "      <th>0</th>\n",
              "      <th>1</th>\n",
              "      <th>2</th>\n",
              "      <th>3</th>\n",
              "      <th>4</th>\n",
              "    </tr>\n",
              "  </thead>\n",
              "  <tbody>\n",
              "    <tr>\n",
              "      <th>0</th>\n",
              "      <td>0</td>\n",
              "      <td>6</td>\n",
              "      <td>0.2006</td>\n",
              "      <td>inf</td>\n",
              "      <td>36.000657</td>\n",
              "      <td>196.008264</td>\n",
              "      <td>144.010000</td>\n",
              "      <td>64.001890</td>\n",
              "    </tr>\n",
              "    <tr>\n",
              "      <th>1</th>\n",
              "      <td>0</td>\n",
              "      <td>13</td>\n",
              "      <td>0.3624</td>\n",
              "      <td>inf</td>\n",
              "      <td>1.000657</td>\n",
              "      <td>49.008264</td>\n",
              "      <td>25.010000</td>\n",
              "      <td>1.001890</td>\n",
              "    </tr>\n",
              "    <tr>\n",
              "      <th>2</th>\n",
              "      <td>0</td>\n",
              "      <td>23</td>\n",
              "      <td>0.4381</td>\n",
              "      <td>inf</td>\n",
              "      <td>121.000657</td>\n",
              "      <td>9.008264</td>\n",
              "      <td>25.010000</td>\n",
              "      <td>81.001890</td>\n",
              "    </tr>\n",
              "    <tr>\n",
              "      <th>3</th>\n",
              "      <td>1</td>\n",
              "      <td>21</td>\n",
              "      <td>0.4289</td>\n",
              "      <td>65.000000</td>\n",
              "      <td>81.000693</td>\n",
              "      <td>1.010000</td>\n",
              "      <td>9.012346</td>\n",
              "      <td>49.002066</td>\n",
              "    </tr>\n",
              "    <tr>\n",
              "      <th>4</th>\n",
              "      <td>1</td>\n",
              "      <td>24</td>\n",
              "      <td>0.4021</td>\n",
              "      <td>122.000000</td>\n",
              "      <td>144.000693</td>\n",
              "      <td>16.010000</td>\n",
              "      <td>36.012346</td>\n",
              "      <td>100.002066</td>\n",
              "    </tr>\n",
              "    <tr>\n",
              "      <th>...</th>\n",
              "      <td>...</td>\n",
              "      <td>...</td>\n",
              "      <td>...</td>\n",
              "      <td>...</td>\n",
              "      <td>...</td>\n",
              "      <td>...</td>\n",
              "      <td>...</td>\n",
              "      <td>...</td>\n",
              "    </tr>\n",
              "    <tr>\n",
              "      <th>133</th>\n",
              "      <td>44</td>\n",
              "      <td>7</td>\n",
              "      <td>0.2719</td>\n",
              "      <td>36.000517</td>\n",
              "      <td>25.040000</td>\n",
              "      <td>169.000918</td>\n",
              "      <td>121.000865</td>\n",
              "      <td>49.002268</td>\n",
              "    </tr>\n",
              "    <tr>\n",
              "      <th>134</th>\n",
              "      <td>44</td>\n",
              "      <td>10</td>\n",
              "      <td>0.3780</td>\n",
              "      <td>9.000517</td>\n",
              "      <td>4.040000</td>\n",
              "      <td>100.000918</td>\n",
              "      <td>64.000865</td>\n",
              "      <td>16.002268</td>\n",
              "    </tr>\n",
              "    <tr>\n",
              "      <th>135</th>\n",
              "      <td>44</td>\n",
              "      <td>22</td>\n",
              "      <td>0.4239</td>\n",
              "      <td>81.000517</td>\n",
              "      <td>100.040000</td>\n",
              "      <td>4.000918</td>\n",
              "      <td>16.000865</td>\n",
              "      <td>64.002268</td>\n",
              "    </tr>\n",
              "    <tr>\n",
              "      <th>136</th>\n",
              "      <td>45</td>\n",
              "      <td>4</td>\n",
              "      <td>0.4900</td>\n",
              "      <td>81.000494</td>\n",
              "      <td>64.027778</td>\n",
              "      <td>256.000865</td>\n",
              "      <td>196.000816</td>\n",
              "      <td>100.002066</td>\n",
              "    </tr>\n",
              "    <tr>\n",
              "      <th>137</th>\n",
              "      <td>45</td>\n",
              "      <td>22</td>\n",
              "      <td>0.3667</td>\n",
              "      <td>81.000494</td>\n",
              "      <td>100.027778</td>\n",
              "      <td>4.000865</td>\n",
              "      <td>16.000816</td>\n",
              "      <td>64.002066</td>\n",
              "    </tr>\n",
              "  </tbody>\n",
              "</table>\n",
              "<p>138 rows × 8 columns</p>\n",
              "</div>"
            ],
            "text/plain": [
              "      X   Y     NTG           0           1           2           3           4\n",
              "0     0   6  0.2006         inf   36.000657  196.008264  144.010000   64.001890\n",
              "1     0  13  0.3624         inf    1.000657   49.008264   25.010000    1.001890\n",
              "2     0  23  0.4381         inf  121.000657    9.008264   25.010000   81.001890\n",
              "3     1  21  0.4289   65.000000   81.000693    1.010000    9.012346   49.002066\n",
              "4     1  24  0.4021  122.000000  144.000693   16.010000   36.012346  100.002066\n",
              "..   ..  ..     ...         ...         ...         ...         ...         ...\n",
              "133  44   7  0.2719   36.000517   25.040000  169.000918  121.000865   49.002268\n",
              "134  44  10  0.3780    9.000517    4.040000  100.000918   64.000865   16.002268\n",
              "135  44  22  0.4239   81.000517  100.040000    4.000918   16.000865   64.002268\n",
              "136  45   4  0.4900   81.000494   64.027778  256.000865  196.000816  100.002066\n",
              "137  45  22  0.3667   81.000494  100.027778    4.000865   16.000816   64.002066\n",
              "\n",
              "[138 rows x 8 columns]"
            ]
          },
          "metadata": {
            "tags": []
          },
          "execution_count": 144
        }
      ]
    },
    {
      "cell_type": "markdown",
      "metadata": {
        "id": "OrpaQxuhnMHs"
      },
      "source": [
        "# IDWR (Inverse Distance Weighted Regression)"
      ]
    },
    {
      "cell_type": "code",
      "metadata": {
        "id": "9tfCUY-Sr3au"
      },
      "source": [
        "def inv_stat_sum(a, b, map_train):\r\n",
        "    s = 0\r\n",
        "    for i in range(map_train.shape[0]):\r\n",
        "        for j in range(map_train.shape[1]):\r\n",
        "            if not np.isnan(map_train[i,j]):\r\n",
        "                if dist(a, b, i, j) > 0:\r\n",
        "                    s += dist(a, b, i, j)\r\n",
        "    return s"
      ],
      "execution_count": null,
      "outputs": []
    },
    {
      "cell_type": "code",
      "metadata": {
        "id": "JjGdMA5xtTi_"
      },
      "source": [
        "def baseline(map_train):\r\n",
        "    map_test = map_train.copy()\r\n",
        "    for i in range(map_test.shape[0]):\r\n",
        "        for j in range(map_test.shape[1]):\r\n",
        "            if np.isnan(map_test[i,j]):\r\n",
        "                map_test[i,j] = moving_average(i, j, map_train)\r\n",
        "    return map_test"
      ],
      "execution_count": null,
      "outputs": []
    },
    {
      "cell_type": "code",
      "metadata": {
        "id": "8pTtQHS0nKoK"
      },
      "source": [
        "def idwr(map_train, baseline):\r\n",
        "    # вычисляем baseline idw\r\n",
        "    map_test = baseline(map_train)\r\n",
        "    \r\n",
        "    n = np.count_nonzero(~np.isnan(map_train))\r\n",
        "    s = np.nansum(map_train)\r\n",
        "    for i in range(map_test.shape[0]):\r\n",
        "        for j in range(map_test.shape[1]):\r\n",
        "            if np.isnan(map_train[i,j]):\r\n",
        "                numerator = s - n * map_test[i,j]\r\n",
        "                denominator = n**2 - stat_sum(i, j, map_train) * inv_stat_sum(i, j, map_train)\r\n",
        "                map_test[i,j] += n * numerator / denominator\r\n",
        "    return map_test"
      ],
      "execution_count": null,
      "outputs": []
    },
    {
      "cell_type": "code",
      "metadata": {
        "id": "gd3ttJkXpUzX"
      },
      "source": [
        "map_test = idwr(map_train, baseline)"
      ],
      "execution_count": null,
      "outputs": []
    },
    {
      "cell_type": "code",
      "metadata": {
        "colab": {
          "base_uri": "https://localhost:8080/",
          "height": 592
        },
        "id": "qYxf5-0-pV8r",
        "outputId": "b42ec400-f80c-4922-94b8-dafbe1e4c9f2"
      },
      "source": [
        "plt.figure(figsize=(16,10))\r\n",
        "ax = sns.heatmap(map_test)\r\n",
        "ax.invert_yaxis()\r\n",
        "plt.show()"
      ],
      "execution_count": null,
      "outputs": [
        {
          "output_type": "display_data",
          "data": {
            "image/png": "[encoded data removed]",
            "text/plain": [
              "<Figure size 1152x720 with 2 Axes>"
            ]
          },
          "metadata": {
            "tags": [],
            "needs_background": "light"
          }
        }
      ]
    },
    {
      "cell_type": "code",
      "metadata": {
        "id": "HXBJSHratMQm"
      },
      "source": [
        "map_baseline = baseline(map_train)"
      ],
      "execution_count": null,
      "outputs": []
    },
    {
      "cell_type": "code",
      "metadata": {
        "colab": {
          "base_uri": "https://localhost:8080/"
        },
        "id": "zyWP8c_utcwK",
        "outputId": "cac50ee3-88fa-47ed-b2e0-ed4d4c8ef33a"
      },
      "source": [
        "map_baseline - map_test"
      ],
      "execution_count": null,
      "outputs": [
        {
          "output_type": "execute_result",
          "data": {
            "text/plain": [
              "array([[ 0.01444596,  0.00975532,  0.0064826 , ..., -0.01539581,\n",
              "        -0.01428661, -0.0137894 ],\n",
              "       [ 0.01298238,  0.0063192 ,  0.        , ..., -0.01393721,\n",
              "        -0.01299565, -0.01331789],\n",
              "       [ 0.01323886,  0.00901497,  0.00594589, ..., -0.0110913 ,\n",
              "        -0.01140708, -0.01319477],\n",
              "       ...,\n",
              "       [-0.00579887, -0.00336459, -0.00185621, ..., -0.0026139 ,\n",
              "        -0.00335121, -0.00317929],\n",
              "       [-0.00465549, -0.00195561,  0.        , ..., -0.00399293,\n",
              "        -0.00379899, -0.00320964],\n",
              "       [-0.00444965, -0.00253858, -0.00142218, ..., -0.00378974,\n",
              "        -0.0034197 , -0.00275559]])"
            ]
          },
          "metadata": {
            "tags": []
          },
          "execution_count": 218
        }
      ]
    },
    {
      "cell_type": "code",
      "metadata": {
        "colab": {
          "base_uri": "https://localhost:8080/"
        },
        "id": "JWYy9KqsuaFv",
        "outputId": "2a73c078-7e22-4d50-dcb2-ee0a84ff7735"
      },
      "source": [
        "np.max(map_test)"
      ],
      "execution_count": null,
      "outputs": [
        {
          "output_type": "execute_result",
          "data": {
            "text/plain": [
              "0.5625"
            ]
          },
          "metadata": {
            "tags": []
          },
          "execution_count": 219
        }
      ]
    },
    {
      "cell_type": "code",
      "metadata": {
        "colab": {
          "base_uri": "https://localhost:8080/"
        },
        "id": "pEQc9hHivVu1",
        "outputId": "a5366638-6eec-438e-ff92-c790486ea23e"
      },
      "source": [
        "np.max(map_baseline)"
      ],
      "execution_count": null,
      "outputs": [
        {
          "output_type": "execute_result",
          "data": {
            "text/plain": [
              "0.5625"
            ]
          },
          "metadata": {
            "tags": []
          },
          "execution_count": 220
        }
      ]
    },
    {
      "cell_type": "code",
      "metadata": {
        "colab": {
          "base_uri": "https://localhost:8080/"
        },
        "id": "uVeBnw8lvXrs",
        "outputId": "0cd16ed7-e081-4d09-fb2b-cfcbe42a027a"
      },
      "source": [
        "np.min(map_test)"
      ],
      "execution_count": null,
      "outputs": [
        {
          "output_type": "execute_result",
          "data": {
            "text/plain": [
              "0.177"
            ]
          },
          "metadata": {
            "tags": []
          },
          "execution_count": 221
        }
      ]
    },
    {
      "cell_type": "code",
      "metadata": {
        "colab": {
          "base_uri": "https://localhost:8080/"
        },
        "id": "ES1up-J_vZAU",
        "outputId": "01371e3c-6868-4846-cd53-e8827af3b9ea"
      },
      "source": [
        "np.min(map_baseline)"
      ],
      "execution_count": null,
      "outputs": [
        {
          "output_type": "execute_result",
          "data": {
            "text/plain": [
              "0.177"
            ]
          },
          "metadata": {
            "tags": []
          },
          "execution_count": 222
        }
      ]
    },
    {
      "cell_type": "code",
      "metadata": {
        "colab": {
          "base_uri": "https://localhost:8080/",
          "height": 402
        },
        "id": "d0fjSFd86rDw",
        "outputId": "7dd8952c-2446-48ef-a3e6-2aa6520d8aa5"
      },
      "source": [
        "out_idwr = get_pandas_out(map_test, test_mask)\r\n",
        "out_idwr"
      ],
      "execution_count": null,
      "outputs": [
        {
          "output_type": "execute_result",
          "data": {
            "text/html": [
              "<div>\n",
              "<style scoped>\n",
              "    .dataframe tbody tr th:only-of-type {\n",
              "        vertical-align: middle;\n",
              "    }\n",
              "\n",
              "    .dataframe tbody tr th {\n",
              "        vertical-align: top;\n",
              "    }\n",
              "\n",
              "    .dataframe thead th {\n",
              "        text-align: right;\n",
              "    }\n",
              "</style>\n",
              "<table border=\"1\" class=\"dataframe\">\n",
              "  <thead>\n",
              "    <tr style=\"text-align: right;\">\n",
              "      <th></th>\n",
              "      <th>Well</th>\n",
              "      <th>X</th>\n",
              "      <th>Y</th>\n",
              "      <th>NTG</th>\n",
              "    </tr>\n",
              "  </thead>\n",
              "  <tbody>\n",
              "    <tr>\n",
              "      <th>0</th>\n",
              "      <td>201-901</td>\n",
              "      <td>201</td>\n",
              "      <td>901</td>\n",
              "      <td>0.264666</td>\n",
              "    </tr>\n",
              "    <tr>\n",
              "      <th>1</th>\n",
              "      <td>201-902</td>\n",
              "      <td>201</td>\n",
              "      <td>902</td>\n",
              "      <td>0.261070</td>\n",
              "    </tr>\n",
              "    <tr>\n",
              "      <th>2</th>\n",
              "      <td>201-903</td>\n",
              "      <td>201</td>\n",
              "      <td>903</td>\n",
              "      <td>0.256744</td>\n",
              "    </tr>\n",
              "    <tr>\n",
              "      <th>3</th>\n",
              "      <td>201-904</td>\n",
              "      <td>201</td>\n",
              "      <td>904</td>\n",
              "      <td>0.251367</td>\n",
              "    </tr>\n",
              "    <tr>\n",
              "      <th>4</th>\n",
              "      <td>201-905</td>\n",
              "      <td>201</td>\n",
              "      <td>905</td>\n",
              "      <td>0.243881</td>\n",
              "    </tr>\n",
              "    <tr>\n",
              "      <th>...</th>\n",
              "      <td>...</td>\n",
              "      <td>...</td>\n",
              "      <td>...</td>\n",
              "      <td>...</td>\n",
              "    </tr>\n",
              "    <tr>\n",
              "      <th>1237</th>\n",
              "      <td>246-926</td>\n",
              "      <td>246</td>\n",
              "      <td>926</td>\n",
              "      <td>0.341917</td>\n",
              "    </tr>\n",
              "    <tr>\n",
              "      <th>1238</th>\n",
              "      <td>246-927</td>\n",
              "      <td>246</td>\n",
              "      <td>927</td>\n",
              "      <td>0.343849</td>\n",
              "    </tr>\n",
              "    <tr>\n",
              "      <th>1239</th>\n",
              "      <td>246-928</td>\n",
              "      <td>246</td>\n",
              "      <td>928</td>\n",
              "      <td>0.343785</td>\n",
              "    </tr>\n",
              "    <tr>\n",
              "      <th>1240</th>\n",
              "      <td>246-929</td>\n",
              "      <td>246</td>\n",
              "      <td>929</td>\n",
              "      <td>0.340711</td>\n",
              "    </tr>\n",
              "    <tr>\n",
              "      <th>1241</th>\n",
              "      <td>246-930</td>\n",
              "      <td>246</td>\n",
              "      <td>930</td>\n",
              "      <td>0.336351</td>\n",
              "    </tr>\n",
              "  </tbody>\n",
              "</table>\n",
              "<p>1242 rows × 4 columns</p>\n",
              "</div>"
            ],
            "text/plain": [
              "         Well    X    Y       NTG\n",
              "0     201-901  201  901  0.264666\n",
              "1     201-902  201  902  0.261070\n",
              "2     201-903  201  903  0.256744\n",
              "3     201-904  201  904  0.251367\n",
              "4     201-905  201  905  0.243881\n",
              "...       ...  ...  ...       ...\n",
              "1237  246-926  246  926  0.341917\n",
              "1238  246-927  246  927  0.343849\n",
              "1239  246-928  246  928  0.343785\n",
              "1240  246-929  246  929  0.340711\n",
              "1241  246-930  246  930  0.336351\n",
              "\n",
              "[1242 rows x 4 columns]"
            ]
          },
          "metadata": {
            "tags": []
          },
          "execution_count": 223
        }
      ]
    },
    {
      "cell_type": "code",
      "metadata": {
        "id": "HLBdDtkl6rD0"
      },
      "source": [
        "# 1 мрт 2021, 03:34:41\r\n",
        "\r\n",
        "out_idwr.to_csv('out_idwr.csv', index=False)"
      ],
      "execution_count": null,
      "outputs": []
    },
    {
      "cell_type": "code",
      "metadata": {
        "id": "TiUbO2os2ci7"
      },
      "source": [
        "def idwr_recursive_weight_map(train, level=0):\r\n",
        "    fake_train = train.copy()\r\n",
        "    for i in range(fake_train.shape[0]):\r\n",
        "        for j in range(fake_train.shape[1]):\r\n",
        "            if not np.isnan(fake_train[i,j]):\r\n",
        "                fake_train[i,j] = moving_average(i, j, train)\r\n",
        "\r\n",
        "    n = np.count_nonzero(~np.isnan(train))\r\n",
        "    s = np.nansum(train)\r\n",
        "    for i in range(fake_train.shape[0]):\r\n",
        "        for j in range(fake_train.shape[1]):\r\n",
        "            if not np.isnan(fake_train[i,j]):\r\n",
        "                numerator = s - n * fake_train[i,j]\r\n",
        "                denominator = n**2 - stat_sum(i, j, train) * inv_stat_sum(i, j, train)\r\n",
        "                fake_train[i,j] += n * numerator / denominator\r\n",
        "    weight_train = train / fake_train\r\n",
        "\r\n",
        "    if level > 0:\r\n",
        "        weight_test = recursive_weight_map(weight_train, level - 1)\r\n",
        "    else:\r\n",
        "        weight_test = idwr(weight_train, baseline)\r\n",
        "    \r\n",
        "    test = idwr(train, baseline) * weight_test\r\n",
        "    \r\n",
        "    return test"
      ],
      "execution_count": null,
      "outputs": []
    },
    {
      "cell_type": "code",
      "metadata": {
        "id": "Fjb0tadtGlKn"
      },
      "source": [
        "map_test = idwr_recursive_weight_map(map_train, level=0)"
      ],
      "execution_count": null,
      "outputs": []
    },
    {
      "cell_type": "code",
      "metadata": {
        "id": "iOBMn_U0HCDX"
      },
      "source": [
        ""
      ],
      "execution_count": null,
      "outputs": []
    },
    {
      "cell_type": "markdown",
      "metadata": {
        "id": "fdy5cuHfk3f_"
      },
      "source": [
        "# Декластеризация"
      ]
    },
    {
      "cell_type": "code",
      "metadata": {
        "colab": {
          "base_uri": "https://localhost:8080/",
          "height": 592
        },
        "id": "cKhXMjRtk6aY",
        "outputId": "d909e4c9-c8fc-4ccc-e9a3-8ffda4e4a40e"
      },
      "source": [
        "plt.figure(figsize=(16,10))\r\n",
        "ax = sns.heatmap(map_train)\r\n",
        "ax.invert_yaxis()\r\n",
        "plt.show()"
      ],
      "execution_count": null,
      "outputs": [
        {
          "output_type": "display_data",
          "data": {
            "image/png": "[encoded data removed]",
            "text/plain": [
              "<Figure size 1152x720 with 2 Axes>"
            ]
          },
          "metadata": {
            "tags": [],
            "needs_background": "light"
          }
        }
      ]
    },
    {
      "cell_type": "code",
      "metadata": {
        "id": "lFXSJYFDlCbg"
      },
      "source": [
        "def declustering_mean(map_train, cell_size, offset):\r\n",
        "    n_cell = {}\r\n",
        "    local_mean = {}\r\n",
        "    global_mean = 0\r\n",
        "    for i in range(map_train.shape[0]):\r\n",
        "        for j in range(map_train.shape[1]):\r\n",
        "            a = (i - offset) // cell_size\r\n",
        "            b = (j - offset) // cell_size\r\n",
        "            if not np.isnan(map_train[i,j]):\r\n",
        "                if (a, b) in n_cell:\r\n",
        "                    n_cell[(a, b)] += 1\r\n",
        "                    local_mean[(a, b)] += map_train[i,j]\r\n",
        "                else:\r\n",
        "                    n_cell[(a, b)] = 1\r\n",
        "                    local_mean[(a, b)] = map_train[i,j]\r\n",
        "\r\n",
        "    for key in n_cell:\r\n",
        "        if n_cell[key[0], key[1]] > 0:\r\n",
        "            local_mean[key[0], key[1]] /= n_cell[key[0], key[1]]\r\n",
        "            global_mean += local_mean[key[0], key[1]]\r\n",
        "    \r\n",
        "    N = len(n_cell)\r\n",
        "    global_mean /= N\r\n",
        "    #for i in range(weight_map.shape[0]):\r\n",
        "    #    for j in range(weight_map.shape[1]):\r\n",
        "    #        a = (i - offset) // cell_size\r\n",
        "    #        b = (j - offset) // cell_size\r\n",
        "    #        if not np.isnan(weight_map[i,j]):\r\n",
        "    #            weight_map[i,j] = 1 / (N * n_cell[(a, b)])\r\n",
        "\r\n",
        "    return global_mean"
      ],
      "execution_count": null,
      "outputs": []
    },
    {
      "cell_type": "code",
      "metadata": {
        "colab": {
          "base_uri": "https://localhost:8080/"
        },
        "id": "T1CkLyk_lo_y",
        "outputId": "05d3d47a-81b1-4dde-f108-320760ddafb0"
      },
      "source": [
        "declustering_mean(map_train, 5, 1)"
      ],
      "execution_count": null,
      "outputs": [
        {
          "output_type": "execute_result",
          "data": {
            "text/plain": [
              "0.33229833333333325"
            ]
          },
          "metadata": {
            "tags": []
          },
          "execution_count": 84
        }
      ]
    },
    {
      "cell_type": "code",
      "metadata": {
        "colab": {
          "base_uri": "https://localhost:8080/",
          "height": 282
        },
        "id": "O7DJKYPeoWV0",
        "outputId": "34805cc5-eaa9-42cd-bfae-4dc23f880fb0"
      },
      "source": [
        "global_mean = []\r\n",
        "num_offsets = 4\r\n",
        "for cell_size in range(2, 16):\r\n",
        "    s = 0\r\n",
        "    for offset in range(0, num_offsets):\r\n",
        "        s += declustering_mean(map_train, cell_size, offset)\r\n",
        "    s /= num_offsets\r\n",
        "    global_mean.append(s)\r\n",
        "plt.scatter(np.arange(2, 16), global_mean)"
      ],
      "execution_count": null,
      "outputs": [
        {
          "output_type": "execute_result",
          "data": {
            "text/plain": [
              "<matplotlib.collections.PathCollection at 0x7f5e32dd7f10>"
            ]
          },
          "metadata": {
            "tags": []
          },
          "execution_count": 85
        },
        {
          "output_type": "display_data",
          "data": {
            "image/png": "[encoded data removed]",
            "text/plain": [
              "<Figure size 432x288 with 1 Axes>"
            ]
          },
          "metadata": {
            "tags": [],
            "needs_background": "light"
          }
        }
      ]
    },
    {
      "cell_type": "code",
      "metadata": {
        "id": "vOi5av1KqFUw"
      },
      "source": [
        "def declustering(map_train, cell_size, offset):\r\n",
        "    weight_map = map_train.copy()\r\n",
        "    n_cell = {}\r\n",
        "    local_mean = {}\r\n",
        "    global_mean = 0\r\n",
        "    for i in range(map_train.shape[0]):\r\n",
        "        for j in range(map_train.shape[1]):\r\n",
        "            a = (i - offset) // cell_size\r\n",
        "            b = (j - offset) // cell_size\r\n",
        "            if not np.isnan(map_train[i,j]):\r\n",
        "                if (a, b) in n_cell:\r\n",
        "                    n_cell[(a, b)] += 1\r\n",
        "                    local_mean[(a, b)] += map_train[i,j]\r\n",
        "                else:\r\n",
        "                    n_cell[(a, b)] = 1\r\n",
        "                    local_mean[(a, b)] = map_train[i,j]\r\n",
        "\r\n",
        "    for key in n_cell:\r\n",
        "        if n_cell[key[0], key[1]] > 0:\r\n",
        "            local_mean[key[0], key[1]] /= n_cell[key[0], key[1]]\r\n",
        "            global_mean += local_mean[key[0], key[1]]\r\n",
        "    \r\n",
        "    N = len(n_cell)\r\n",
        "    global_mean /= N\r\n",
        "    for i in range(weight_map.shape[0]):\r\n",
        "        for j in range(weight_map.shape[1]):\r\n",
        "            a = (i - offset) // cell_size\r\n",
        "            b = (j - offset) // cell_size\r\n",
        "            if not np.isnan(weight_map[i,j]):\r\n",
        "                weight_map[i,j] = 1 / (N * n_cell[(a, b)])\r\n",
        "\r\n",
        "    return weight_map"
      ],
      "execution_count": null,
      "outputs": []
    },
    {
      "cell_type": "code",
      "metadata": {
        "id": "nPXHtmkd40H8"
      },
      "source": [
        "weight_map = np.zeros_like(map_train)\r\n",
        "for offset in range(4):\r\n",
        "    weight_map += declustering(map_train, 8, offset)\r\n",
        "weight_map /= 4"
      ],
      "execution_count": null,
      "outputs": []
    },
    {
      "cell_type": "code",
      "metadata": {
        "colab": {
          "base_uri": "https://localhost:8080/",
          "height": 592
        },
        "id": "V05CEJQk43en",
        "outputId": "38961b64-fda4-444b-e681-bd63c4d32f4a"
      },
      "source": [
        "plt.figure(figsize=(16,10))\r\n",
        "ax = sns.heatmap(weight_map)\r\n",
        "ax.invert_yaxis()\r\n",
        "plt.show()"
      ],
      "execution_count": null,
      "outputs": [
        {
          "output_type": "display_data",
          "data": {
            "image/png": "[encoded data removed]",
            "text/plain": [
              "<Figure size 1152x720 with 2 Axes>"
            ]
          },
          "metadata": {
            "tags": [],
            "needs_background": "light"
          }
        }
      ]
    },
    {
      "cell_type": "code",
      "metadata": {
        "id": "H_5-LKon5XvO"
      },
      "source": [
        "def declustered_stat_sum(a, b, map_train, weight_map):\r\n",
        "    s = 0\r\n",
        "    for i in range(map_train.shape[0]):\r\n",
        "        for j in range(map_train.shape[1]):\r\n",
        "            if not np.isnan(map_train[i,j]):\r\n",
        "                if dist(a, b, i, j) > 0:\r\n",
        "                    s += weight_map[i,j] / dist(a, b, i, j)\r\n",
        "    return s"
      ],
      "execution_count": null,
      "outputs": []
    },
    {
      "cell_type": "code",
      "metadata": {
        "id": "j-GjxpQ37ejY"
      },
      "source": [
        "def declustered_moving_average(a, b, map_train, weight_map):\r\n",
        "    ntg = 0\r\n",
        "    s = declustered_stat_sum(a, b, map_train, weight_map)\r\n",
        "    for i in range(map_train.shape[0]):\r\n",
        "        for j in range(map_train.shape[1]):\r\n",
        "            if not np.isnan(map_train[i,j]):\r\n",
        "                if dist(a, b, i, j) > 0:\r\n",
        "                    ntg += (weight_map[i,j] * map_train[i,j] / dist(a, b, i, j)) / s\r\n",
        "    return ntg"
      ],
      "execution_count": null,
      "outputs": []
    },
    {
      "cell_type": "code",
      "metadata": {
        "id": "eu8Gwi5Y5z_l"
      },
      "source": [
        "def declustered_baseline(map_train, weight_map):\r\n",
        "    map_test = map_train.copy()\r\n",
        "    for i in range(map_test.shape[0]):\r\n",
        "        for j in range(map_test.shape[1]):\r\n",
        "            if np.isnan(map_test[i,j]):\r\n",
        "                map_test[i,j] = declustered_moving_average(i, j, map_train, weight_map)\r\n",
        "    return map_test"
      ],
      "execution_count": null,
      "outputs": []
    },
    {
      "cell_type": "code",
      "metadata": {
        "id": "uu33J5lF7peb"
      },
      "source": [
        "map_test = declustered_baseline(map_train, weight_map)"
      ],
      "execution_count": null,
      "outputs": []
    },
    {
      "cell_type": "code",
      "metadata": {
        "colab": {
          "base_uri": "https://localhost:8080/",
          "height": 592
        },
        "id": "l4Zj4ZLo7t5t",
        "outputId": "4cb49420-7cbb-43e2-b0d9-7b6b7d4bec48"
      },
      "source": [
        "plt.figure(figsize=(16,10))\r\n",
        "ax = sns.heatmap(map_test)\r\n",
        "ax.invert_yaxis()\r\n",
        "plt.show()"
      ],
      "execution_count": null,
      "outputs": [
        {
          "output_type": "display_data",
          "data": {
            "image/png": "[encoded data removed]",
            "text/plain": [
              "<Figure size 1152x720 with 2 Axes>"
            ]
          },
          "metadata": {
            "tags": [],
            "needs_background": "light"
          }
        }
      ]
    },
    {
      "cell_type": "code",
      "metadata": {
        "colab": {
          "base_uri": "https://localhost:8080/",
          "height": 402
        },
        "id": "D9Xqfq-XGfS_",
        "outputId": "22c30577-9941-48f1-86a2-d12b70943d31"
      },
      "source": [
        "out_declustered = get_pandas_out(map_test, test_mask)\r\n",
        "out_declustered"
      ],
      "execution_count": null,
      "outputs": [
        {
          "output_type": "execute_result",
          "data": {
            "text/html": [
              "<div>\n",
              "<style scoped>\n",
              "    .dataframe tbody tr th:only-of-type {\n",
              "        vertical-align: middle;\n",
              "    }\n",
              "\n",
              "    .dataframe tbody tr th {\n",
              "        vertical-align: top;\n",
              "    }\n",
              "\n",
              "    .dataframe thead th {\n",
              "        text-align: right;\n",
              "    }\n",
              "</style>\n",
              "<table border=\"1\" class=\"dataframe\">\n",
              "  <thead>\n",
              "    <tr style=\"text-align: right;\">\n",
              "      <th></th>\n",
              "      <th>Well</th>\n",
              "      <th>X</th>\n",
              "      <th>Y</th>\n",
              "      <th>NTG</th>\n",
              "    </tr>\n",
              "  </thead>\n",
              "  <tbody>\n",
              "    <tr>\n",
              "      <th>0</th>\n",
              "      <td>201-901</td>\n",
              "      <td>201</td>\n",
              "      <td>901</td>\n",
              "      <td>0.269884</td>\n",
              "    </tr>\n",
              "    <tr>\n",
              "      <th>1</th>\n",
              "      <td>201-902</td>\n",
              "      <td>201</td>\n",
              "      <td>902</td>\n",
              "      <td>0.266003</td>\n",
              "    </tr>\n",
              "    <tr>\n",
              "      <th>2</th>\n",
              "      <td>201-903</td>\n",
              "      <td>201</td>\n",
              "      <td>903</td>\n",
              "      <td>0.261655</td>\n",
              "    </tr>\n",
              "    <tr>\n",
              "      <th>3</th>\n",
              "      <td>201-904</td>\n",
              "      <td>201</td>\n",
              "      <td>904</td>\n",
              "      <td>0.253887</td>\n",
              "    </tr>\n",
              "    <tr>\n",
              "      <th>4</th>\n",
              "      <td>201-905</td>\n",
              "      <td>201</td>\n",
              "      <td>905</td>\n",
              "      <td>0.240597</td>\n",
              "    </tr>\n",
              "    <tr>\n",
              "      <th>...</th>\n",
              "      <td>...</td>\n",
              "      <td>...</td>\n",
              "      <td>...</td>\n",
              "      <td>...</td>\n",
              "    </tr>\n",
              "    <tr>\n",
              "      <th>1237</th>\n",
              "      <td>246-926</td>\n",
              "      <td>246</td>\n",
              "      <td>926</td>\n",
              "      <td>0.348110</td>\n",
              "    </tr>\n",
              "    <tr>\n",
              "      <th>1238</th>\n",
              "      <td>246-927</td>\n",
              "      <td>246</td>\n",
              "      <td>927</td>\n",
              "      <td>0.351915</td>\n",
              "    </tr>\n",
              "    <tr>\n",
              "      <th>1239</th>\n",
              "      <td>246-928</td>\n",
              "      <td>246</td>\n",
              "      <td>928</td>\n",
              "      <td>0.352652</td>\n",
              "    </tr>\n",
              "    <tr>\n",
              "      <th>1240</th>\n",
              "      <td>246-929</td>\n",
              "      <td>246</td>\n",
              "      <td>929</td>\n",
              "      <td>0.350353</td>\n",
              "    </tr>\n",
              "    <tr>\n",
              "      <th>1241</th>\n",
              "      <td>246-930</td>\n",
              "      <td>246</td>\n",
              "      <td>930</td>\n",
              "      <td>0.346703</td>\n",
              "    </tr>\n",
              "  </tbody>\n",
              "</table>\n",
              "<p>1242 rows × 4 columns</p>\n",
              "</div>"
            ],
            "text/plain": [
              "         Well    X    Y       NTG\n",
              "0     201-901  201  901  0.269884\n",
              "1     201-902  201  902  0.266003\n",
              "2     201-903  201  903  0.261655\n",
              "3     201-904  201  904  0.253887\n",
              "4     201-905  201  905  0.240597\n",
              "...       ...  ...  ...       ...\n",
              "1237  246-926  246  926  0.348110\n",
              "1238  246-927  246  927  0.351915\n",
              "1239  246-928  246  928  0.352652\n",
              "1240  246-929  246  929  0.350353\n",
              "1241  246-930  246  930  0.346703\n",
              "\n",
              "[1242 rows x 4 columns]"
            ]
          },
          "metadata": {
            "tags": []
          },
          "execution_count": 120
        }
      ]
    },
    {
      "cell_type": "code",
      "metadata": {
        "id": "35arNAA4GfTI"
      },
      "source": [
        "# 1 мрт 2021, 18:26:09\r\n",
        "\r\n",
        "out_declustered.to_csv('out_declustered.csv', index=False)"
      ],
      "execution_count": null,
      "outputs": []
    },
    {
      "cell_type": "code",
      "metadata": {
        "id": "yZC2TxWhGukJ"
      },
      "source": [
        "def declustered_idwr(map_train, weight_map):\r\n",
        "    # вычисляем baseline idw\r\n",
        "    map_test = declustered_baseline(map_train, weight_map)\r\n",
        "    \r\n",
        "    n = np.count_nonzero(~np.isnan(map_train))\r\n",
        "    s = np.nansum(map_train)\r\n",
        "    for i in range(map_test.shape[0]):\r\n",
        "        for j in range(map_test.shape[1]):\r\n",
        "            if np.isnan(map_train[i,j]):\r\n",
        "                numerator = s - n * map_test[i,j]\r\n",
        "                denominator = n**2 - stat_sum(i, j, map_train) * inv_stat_sum(i, j, map_train)\r\n",
        "                map_test[i,j] += n * numerator / denominator\r\n",
        "    return map_test"
      ],
      "execution_count": null,
      "outputs": []
    },
    {
      "cell_type": "code",
      "metadata": {
        "id": "X9Rck4buIoqF"
      },
      "source": [
        "map_test = declustered_idwr(map_train, weight_map)"
      ],
      "execution_count": null,
      "outputs": []
    },
    {
      "cell_type": "code",
      "metadata": {
        "colab": {
          "base_uri": "https://localhost:8080/",
          "height": 592
        },
        "id": "maAeZlT0IsiJ",
        "outputId": "63c82f7c-4172-420b-f2c5-2fd75424f0f3"
      },
      "source": [
        "plt.figure(figsize=(16,10))\r\n",
        "ax = sns.heatmap(map_test)\r\n",
        "ax.invert_yaxis()\r\n",
        "plt.show()"
      ],
      "execution_count": null,
      "outputs": [
        {
          "output_type": "display_data",
          "data": {
            "image/png": "[encoded data removed]",
            "text/plain": [
              "<Figure size 1152x720 with 2 Axes>"
            ]
          },
          "metadata": {
            "tags": [],
            "needs_background": "light"
          }
        }
      ]
    },
    {
      "cell_type": "code",
      "metadata": {
        "id": "LRdnUM3eI9vK"
      },
      "source": [
        "def declustered_idwr_recursive_weight_map(train, declus_weight, level=0):\r\n",
        "    fake_train = train.copy()\r\n",
        "    for i in range(fake_train.shape[0]):\r\n",
        "        for j in range(fake_train.shape[1]):\r\n",
        "            if not np.isnan(fake_train[i,j]):\r\n",
        "                fake_train[i,j] = declustered_moving_average(i, j, train, declus_weight)\r\n",
        "\r\n",
        "    n = np.count_nonzero(~np.isnan(train))\r\n",
        "    s = np.nansum(train)\r\n",
        "    for i in range(fake_train.shape[0]):\r\n",
        "        for j in range(fake_train.shape[1]):\r\n",
        "            if not np.isnan(fake_train[i,j]):\r\n",
        "                numerator = s - n * fake_train[i,j]\r\n",
        "                denominator = n**2 - stat_sum(i, j, train) * inv_stat_sum(i, j, train)\r\n",
        "                fake_train[i,j] += n * numerator / denominator\r\n",
        "    weight_train = train / fake_train\r\n",
        "\r\n",
        "    if level > 0:\r\n",
        "        weight_test = recursive_weight_map(weight_train, level - 1)\r\n",
        "    else:\r\n",
        "        weight_test = declustered_idwr(weight_train, declus_weight)\r\n",
        "    \r\n",
        "    test = declustered_idwr(train, declus_weight) * weight_test\r\n",
        "    \r\n",
        "    return test"
      ],
      "execution_count": null,
      "outputs": []
    },
    {
      "cell_type": "code",
      "metadata": {
        "id": "J0TDeca9SZPA"
      },
      "source": [
        "map_test = declustered_idwr_recursive_weight_map(map_train, weight_map, 0)"
      ],
      "execution_count": null,
      "outputs": []
    },
    {
      "cell_type": "code",
      "metadata": {
        "colab": {
          "base_uri": "https://localhost:8080/",
          "height": 592
        },
        "id": "_M5BKqQQSt0W",
        "outputId": "63d06ed1-ad99-4bd0-8e12-8c57dca64987"
      },
      "source": [
        "plt.figure(figsize=(16,10))\r\n",
        "ax = sns.heatmap(map_test)\r\n",
        "ax.invert_yaxis()\r\n",
        "plt.show()"
      ],
      "execution_count": null,
      "outputs": [
        {
          "output_type": "display_data",
          "data": {
            "image/png": "[encoded data removed]",
            "text/plain": [
              "<Figure size 1152x720 with 2 Axes>"
            ]
          },
          "metadata": {
            "tags": [],
            "needs_background": "light"
          }
        }
      ]
    },
    {
      "cell_type": "code",
      "metadata": {
        "colab": {
          "base_uri": "https://localhost:8080/",
          "height": 550
        },
        "id": "cXGUS0U8S6VY",
        "outputId": "5e5236ea-f010-40a8-abe0-e8a54027eee1"
      },
      "source": [
        "plt.hist(map_test.ravel(), bins='auto')"
      ],
      "execution_count": null,
      "outputs": [
        {
          "output_type": "execute_result",
          "data": {
            "text/plain": [
              "(array([  2.,   1.,   3.,   5.,   9.,   7.,  16.,  26.,  29.,  52.,  71.,\n",
              "         97., 123., 127., 112., 143., 127., 103.,  78.,  59.,  33.,  41.,\n",
              "         24.,  22.,  14.,  13.,   7.,   5.,   1.,   6.,   6.,   3.,   4.,\n",
              "          1.,   1.,   1.,   2.,   0.,   1.,   0.,   1.,   1.,   1.,   0.,\n",
              "          0.,   0.,   1.,   0.,   0.,   0.,   1.]),\n",
              " array([0.1125262 , 0.12674438, 0.14096257, 0.15518075, 0.16939893,\n",
              "        0.18361711, 0.1978353 , 0.21205348, 0.22627166, 0.24048985,\n",
              "        0.25470803, 0.26892621, 0.28314439, 0.29736258, 0.31158076,\n",
              "        0.32579894, 0.34001713, 0.35423531, 0.36845349, 0.38267167,\n",
              "        0.39688986, 0.41110804, 0.42532622, 0.4395444 , 0.45376259,\n",
              "        0.46798077, 0.48219895, 0.49641714, 0.51063532, 0.5248535 ,\n",
              "        0.53907168, 0.55328987, 0.56750805, 0.58172623, 0.59594442,\n",
              "        0.6101626 , 0.62438078, 0.63859896, 0.65281715, 0.66703533,\n",
              "        0.68125351, 0.6954717 , 0.70968988, 0.72390806, 0.73812624,\n",
              "        0.75234443, 0.76656261, 0.78078079, 0.79499898, 0.80921716,\n",
              "        0.82343534, 0.83765352]),\n",
              " <a list of 51 Patch objects>)"
            ]
          },
          "metadata": {
            "tags": []
          },
          "execution_count": 155
        },
        {
          "output_type": "display_data",
          "data": {
            "image/png": "[encoded data removed]",
            "text/plain": [
              "<Figure size 432x288 with 1 Axes>"
            ]
          },
          "metadata": {
            "tags": [],
            "needs_background": "light"
          }
        }
      ]
    },
    {
      "cell_type": "code",
      "metadata": {
        "colab": {
          "base_uri": "https://localhost:8080/"
        },
        "id": "poAmYdspTO5Q",
        "outputId": "b8cee2aa-12df-4454-b15e-de76f11ad3b3"
      },
      "source": [
        "map_test.mean()"
      ],
      "execution_count": null,
      "outputs": [
        {
          "output_type": "execute_result",
          "data": {
            "text/plain": [
              "0.33151502394796145"
            ]
          },
          "metadata": {
            "tags": []
          },
          "execution_count": 156
        }
      ]
    },
    {
      "cell_type": "code",
      "metadata": {
        "colab": {
          "base_uri": "https://localhost:8080/"
        },
        "id": "esYwxqR6TiHl",
        "outputId": "f61c9aba-1693-4cd6-daa0-60d7efca9c5b"
      },
      "source": [
        "declustering_mean(map_train, 8, 0)"
      ],
      "execution_count": null,
      "outputs": [
        {
          "output_type": "execute_result",
          "data": {
            "text/plain": [
              "0.32514525297619046"
            ]
          },
          "metadata": {
            "tags": []
          },
          "execution_count": 157
        }
      ]
    },
    {
      "cell_type": "code",
      "metadata": {
        "colab": {
          "base_uri": "https://localhost:8080/",
          "height": 402
        },
        "id": "JavWyWnbUC7c",
        "outputId": "347f083b-8ff1-4f20-8416-4c3e0c086376"
      },
      "source": [
        "out_declustered_recursive = get_pandas_out(map_test, test_mask)\r\n",
        "out_declustered_recursive"
      ],
      "execution_count": null,
      "outputs": [
        {
          "output_type": "execute_result",
          "data": {
            "text/html": [
              "<div>\n",
              "<style scoped>\n",
              "    .dataframe tbody tr th:only-of-type {\n",
              "        vertical-align: middle;\n",
              "    }\n",
              "\n",
              "    .dataframe tbody tr th {\n",
              "        vertical-align: top;\n",
              "    }\n",
              "\n",
              "    .dataframe thead th {\n",
              "        text-align: right;\n",
              "    }\n",
              "</style>\n",
              "<table border=\"1\" class=\"dataframe\">\n",
              "  <thead>\n",
              "    <tr style=\"text-align: right;\">\n",
              "      <th></th>\n",
              "      <th>Well</th>\n",
              "      <th>X</th>\n",
              "      <th>Y</th>\n",
              "      <th>NTG</th>\n",
              "    </tr>\n",
              "  </thead>\n",
              "  <tbody>\n",
              "    <tr>\n",
              "      <th>0</th>\n",
              "      <td>201-901</td>\n",
              "      <td>201</td>\n",
              "      <td>901</td>\n",
              "      <td>0.258277</td>\n",
              "    </tr>\n",
              "    <tr>\n",
              "      <th>1</th>\n",
              "      <td>201-902</td>\n",
              "      <td>201</td>\n",
              "      <td>902</td>\n",
              "      <td>0.255187</td>\n",
              "    </tr>\n",
              "    <tr>\n",
              "      <th>2</th>\n",
              "      <td>201-903</td>\n",
              "      <td>201</td>\n",
              "      <td>903</td>\n",
              "      <td>0.243065</td>\n",
              "    </tr>\n",
              "    <tr>\n",
              "      <th>3</th>\n",
              "      <td>201-904</td>\n",
              "      <td>201</td>\n",
              "      <td>904</td>\n",
              "      <td>0.223521</td>\n",
              "    </tr>\n",
              "    <tr>\n",
              "      <th>4</th>\n",
              "      <td>201-905</td>\n",
              "      <td>201</td>\n",
              "      <td>905</td>\n",
              "      <td>0.199036</td>\n",
              "    </tr>\n",
              "    <tr>\n",
              "      <th>...</th>\n",
              "      <td>...</td>\n",
              "      <td>...</td>\n",
              "      <td>...</td>\n",
              "      <td>...</td>\n",
              "    </tr>\n",
              "    <tr>\n",
              "      <th>1237</th>\n",
              "      <td>246-926</td>\n",
              "      <td>246</td>\n",
              "      <td>926</td>\n",
              "      <td>0.363916</td>\n",
              "    </tr>\n",
              "    <tr>\n",
              "      <th>1238</th>\n",
              "      <td>246-927</td>\n",
              "      <td>246</td>\n",
              "      <td>927</td>\n",
              "      <td>0.373724</td>\n",
              "    </tr>\n",
              "    <tr>\n",
              "      <th>1239</th>\n",
              "      <td>246-928</td>\n",
              "      <td>246</td>\n",
              "      <td>928</td>\n",
              "      <td>0.378286</td>\n",
              "    </tr>\n",
              "    <tr>\n",
              "      <th>1240</th>\n",
              "      <td>246-929</td>\n",
              "      <td>246</td>\n",
              "      <td>929</td>\n",
              "      <td>0.377177</td>\n",
              "    </tr>\n",
              "    <tr>\n",
              "      <th>1241</th>\n",
              "      <td>246-930</td>\n",
              "      <td>246</td>\n",
              "      <td>930</td>\n",
              "      <td>0.372816</td>\n",
              "    </tr>\n",
              "  </tbody>\n",
              "</table>\n",
              "<p>1242 rows × 4 columns</p>\n",
              "</div>"
            ],
            "text/plain": [
              "         Well    X    Y       NTG\n",
              "0     201-901  201  901  0.258277\n",
              "1     201-902  201  902  0.255187\n",
              "2     201-903  201  903  0.243065\n",
              "3     201-904  201  904  0.223521\n",
              "4     201-905  201  905  0.199036\n",
              "...       ...  ...  ...       ...\n",
              "1237  246-926  246  926  0.363916\n",
              "1238  246-927  246  927  0.373724\n",
              "1239  246-928  246  928  0.378286\n",
              "1240  246-929  246  929  0.377177\n",
              "1241  246-930  246  930  0.372816\n",
              "\n",
              "[1242 rows x 4 columns]"
            ]
          },
          "metadata": {
            "tags": []
          },
          "execution_count": 158
        }
      ]
    },
    {
      "cell_type": "code",
      "metadata": {
        "id": "mwfUdMmOUC7l"
      },
      "source": [
        "# 1 мрт 2021, 19:23:56\r\n",
        "\r\n",
        "out_declustered_recursive.to_csv('out_declustered_recursive.csv', index=False)"
      ],
      "execution_count": null,
      "outputs": []
    },
    {
      "cell_type": "code",
      "metadata": {
        "id": "stLAX6RpV0So"
      },
      "source": [
        "def smoothing(map_test):\r\n",
        "    n = map_test.shape[0]\r\n",
        "    m = map_test.shape[1]\r\n",
        "    bordered_test = np.empty((n+2,m+2))\r\n",
        "    bordered_test[:] = np.nan\r\n",
        "    bordered_test[1:-1,1:-1] = map_test\r\n",
        "    new_test = np.empty_like(map_test)\r\n",
        "    for i in range(n):\r\n",
        "        for j in range(m):\r\n",
        "            new_test[i,j] = np.nansum(bordered_test[i:i+2, j:j+2]) / np.count_nonzero(~np.isnan(bordered_test[i:i+2, j:j+2]))\r\n",
        "    return new_test"
      ],
      "execution_count": null,
      "outputs": []
    },
    {
      "cell_type": "code",
      "metadata": {
        "id": "QKysM9XucSS0"
      },
      "source": [
        "map_test = smoothing(map_test)"
      ],
      "execution_count": null,
      "outputs": []
    },
    {
      "cell_type": "code",
      "metadata": {
        "colab": {
          "base_uri": "https://localhost:8080/"
        },
        "id": "90FSzx7ocUNm",
        "outputId": "9a6509fb-f036-4414-8922-3a3590f20a91"
      },
      "source": [
        "map_test"
      ],
      "execution_count": null,
      "outputs": [
        {
          "output_type": "execute_result",
          "data": {
            "text/plain": [
              "array([[0.2582767 , 0.26354392, 0.27178419, ..., 0.47183869, 0.45781668,\n",
              "        0.44884093],\n",
              "       [0.25673199, 0.26354025, 0.27494148, ..., 0.4912986 , 0.46598595,\n",
              "        0.45673647],\n",
              "       [0.24912606, 0.25655393, 0.26806411, ..., 0.5212803 , 0.47933765,\n",
              "        0.48018524],\n",
              "       ...,\n",
              "       [0.38205532, 0.37628266, 0.36558415, ..., 0.41938498, 0.40791182,\n",
              "        0.38528186],\n",
              "       [0.36537567, 0.35988799, 0.35140449, ..., 0.42769161, 0.40332764,\n",
              "        0.38541715],\n",
              "       [0.35624677, 0.35221582, 0.34625958, ..., 0.40246659, 0.39266823,\n",
              "        0.38054267]])"
            ]
          },
          "metadata": {
            "tags": []
          },
          "execution_count": 162
        }
      ]
    },
    {
      "cell_type": "code",
      "metadata": {
        "colab": {
          "base_uri": "https://localhost:8080/",
          "height": 592
        },
        "id": "5nFVV9pecWOn",
        "outputId": "b91c4356-7721-4660-c1bb-36b78eede86f"
      },
      "source": [
        "plt.figure(figsize=(16,10))\r\n",
        "ax = sns.heatmap(map_test)\r\n",
        "ax.invert_yaxis()\r\n",
        "plt.show()"
      ],
      "execution_count": null,
      "outputs": [
        {
          "output_type": "display_data",
          "data": {
            "image/png": "[encoded data removed]",
            "text/plain": [
              "<Figure size 1152x720 with 2 Axes>"
            ]
          },
          "metadata": {
            "tags": [],
            "needs_background": "light"
          }
        }
      ]
    },
    {
      "cell_type": "code",
      "metadata": {
        "colab": {
          "base_uri": "https://localhost:8080/",
          "height": 402
        },
        "id": "Zu5QDNpsdG4a",
        "outputId": "8480720f-fa09-4952-d90c-b636725e1690"
      },
      "source": [
        "out_ridwr_smooth = get_pandas_out(map_test, test_mask)\r\n",
        "out_ridwr_smooth"
      ],
      "execution_count": null,
      "outputs": [
        {
          "output_type": "execute_result",
          "data": {
            "text/html": [
              "<div>\n",
              "<style scoped>\n",
              "    .dataframe tbody tr th:only-of-type {\n",
              "        vertical-align: middle;\n",
              "    }\n",
              "\n",
              "    .dataframe tbody tr th {\n",
              "        vertical-align: top;\n",
              "    }\n",
              "\n",
              "    .dataframe thead th {\n",
              "        text-align: right;\n",
              "    }\n",
              "</style>\n",
              "<table border=\"1\" class=\"dataframe\">\n",
              "  <thead>\n",
              "    <tr style=\"text-align: right;\">\n",
              "      <th></th>\n",
              "      <th>Well</th>\n",
              "      <th>X</th>\n",
              "      <th>Y</th>\n",
              "      <th>NTG</th>\n",
              "    </tr>\n",
              "  </thead>\n",
              "  <tbody>\n",
              "    <tr>\n",
              "      <th>0</th>\n",
              "      <td>201-901</td>\n",
              "      <td>201</td>\n",
              "      <td>901</td>\n",
              "      <td>0.258277</td>\n",
              "    </tr>\n",
              "    <tr>\n",
              "      <th>1</th>\n",
              "      <td>201-902</td>\n",
              "      <td>201</td>\n",
              "      <td>902</td>\n",
              "      <td>0.256732</td>\n",
              "    </tr>\n",
              "    <tr>\n",
              "      <th>2</th>\n",
              "      <td>201-903</td>\n",
              "      <td>201</td>\n",
              "      <td>903</td>\n",
              "      <td>0.249126</td>\n",
              "    </tr>\n",
              "    <tr>\n",
              "      <th>3</th>\n",
              "      <td>201-904</td>\n",
              "      <td>201</td>\n",
              "      <td>904</td>\n",
              "      <td>0.233293</td>\n",
              "    </tr>\n",
              "    <tr>\n",
              "      <th>4</th>\n",
              "      <td>201-905</td>\n",
              "      <td>201</td>\n",
              "      <td>905</td>\n",
              "      <td>0.211279</td>\n",
              "    </tr>\n",
              "    <tr>\n",
              "      <th>...</th>\n",
              "      <td>...</td>\n",
              "      <td>...</td>\n",
              "      <td>...</td>\n",
              "      <td>...</td>\n",
              "    </tr>\n",
              "    <tr>\n",
              "      <th>1237</th>\n",
              "      <td>246-926</td>\n",
              "      <td>246</td>\n",
              "      <td>926</td>\n",
              "      <td>0.362346</td>\n",
              "    </tr>\n",
              "    <tr>\n",
              "      <th>1238</th>\n",
              "      <td>246-927</td>\n",
              "      <td>246</td>\n",
              "      <td>927</td>\n",
              "      <td>0.374661</td>\n",
              "    </tr>\n",
              "    <tr>\n",
              "      <th>1239</th>\n",
              "      <td>246-928</td>\n",
              "      <td>246</td>\n",
              "      <td>928</td>\n",
              "      <td>0.385282</td>\n",
              "    </tr>\n",
              "    <tr>\n",
              "      <th>1240</th>\n",
              "      <td>246-929</td>\n",
              "      <td>246</td>\n",
              "      <td>929</td>\n",
              "      <td>0.385417</td>\n",
              "    </tr>\n",
              "    <tr>\n",
              "      <th>1241</th>\n",
              "      <td>246-930</td>\n",
              "      <td>246</td>\n",
              "      <td>930</td>\n",
              "      <td>0.380543</td>\n",
              "    </tr>\n",
              "  </tbody>\n",
              "</table>\n",
              "<p>1242 rows × 4 columns</p>\n",
              "</div>"
            ],
            "text/plain": [
              "         Well    X    Y       NTG\n",
              "0     201-901  201  901  0.258277\n",
              "1     201-902  201  902  0.256732\n",
              "2     201-903  201  903  0.249126\n",
              "3     201-904  201  904  0.233293\n",
              "4     201-905  201  905  0.211279\n",
              "...       ...  ...  ...       ...\n",
              "1237  246-926  246  926  0.362346\n",
              "1238  246-927  246  927  0.374661\n",
              "1239  246-928  246  928  0.385282\n",
              "1240  246-929  246  929  0.385417\n",
              "1241  246-930  246  930  0.380543\n",
              "\n",
              "[1242 rows x 4 columns]"
            ]
          },
          "metadata": {
            "tags": []
          },
          "execution_count": 167
        }
      ]
    },
    {
      "cell_type": "code",
      "metadata": {
        "id": "HUaxWDhFdG4i"
      },
      "source": [
        "# 1 мрт 2021, 20:04:14\r\n",
        "\r\n",
        "out_ridwr_smooth.to_csv('out_ridwr_smooth.csv', index=False)"
      ],
      "execution_count": null,
      "outputs": []
    },
    {
      "cell_type": "code",
      "metadata": {
        "id": "wESQfd9Nds3m"
      },
      "source": [
        ""
      ],
      "execution_count": null,
      "outputs": []
    }
  ]
}